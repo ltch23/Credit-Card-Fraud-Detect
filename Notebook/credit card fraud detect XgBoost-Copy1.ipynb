{
 "cells": [
  {
   "cell_type": "code",
   "execution_count": 1,
   "metadata": {
    "_cell_guid": "11290628-b996-418e-a3d6-9d36447d5ade",
    "_kg_hide-input": false,
    "_uuid": "047250539ea0427dbc3f7dd46eb7e02e79e58bf4"
   },
   "outputs": [],
   "source": [
    "# Loading libraries\n",
    "import itertools\n",
    "import pandas as pd\n",
    "import numpy as np\n",
    "import matplotlib.pyplot as plt\n",
    "import seaborn as sns\n",
    "from sklearn.metrics import accuracy_score,f1_score\n",
    "from sklearn.impute import SimpleImputer\n",
    "from sklearn.model_selection import cross_val_score\n"
   ]
  },
  {
   "cell_type": "code",
   "execution_count": 14,
   "metadata": {
    "_cell_guid": "be228bff-6554-4f52-94df-79894f2eb721",
    "_uuid": "764aeb6dd7615b00d5f050d7d6be68bd19199db1"
   },
   "outputs": [],
   "source": [
    "# Loading dataset\n",
    "\n",
    "dataset = pd.read_csv('../input/creditcard.csv')\n",
    "dataset = dataset.drop(['V28','V27','V26','V25','V24','V23','V22','V20','V15','V13','V8'], axis =1)\n",
    "dataset['V1_'] = dataset.V1.map(lambda x: 1 if x < -3 else 0)\n",
    "dataset['V2_'] = dataset.V2.map(lambda x: 1 if x > 2.5 else 0)\n",
    "dataset['V3_'] = dataset.V3.map(lambda x: 1 if x < -4 else 0)\n",
    "dataset['V4_'] = dataset.V4.map(lambda x: 1 if x > 2.5 else 0)\n",
    "dataset['V5_'] = dataset.V5.map(lambda x: 1 if x < -4.5 else 0)\n",
    "dataset['V6_'] = dataset.V6.map(lambda x: 1 if x < -2.5 else 0)\n",
    "dataset['V7_'] = dataset.V7.map(lambda x: 1 if x < -3 else 0)\n",
    "dataset['V9_'] = dataset.V9.map(lambda x: 1 if x < -2 else 0)\n",
    "dataset['V10_'] = dataset.V10.map(lambda x: 1 if x < -2.5 else 0)\n",
    "dataset['V11_'] = dataset.V11.map(lambda x: 1 if x > 2 else 0)\n",
    "dataset['V12_'] = dataset.V12.map(lambda x: 1 if x < -2 else 0)\n",
    "dataset['V14_'] = dataset.V14.map(lambda x: 1 if x < -2.5 else 0)\n",
    "dataset['V16_'] = dataset.V16.map(lambda x: 1 if x < -2 else 0)\n",
    "dataset['V17_'] = dataset.V17.map(lambda x: 1 if x < -2 else 0)\n",
    "dataset['V18_'] = dataset.V18.map(lambda x: 1 if x < -2 else 0)\n",
    "dataset['V19_'] = dataset.V19.map(lambda x: 1 if x > 1.5 else 0)\n",
    "dataset['V21_'] = dataset.V21.map(lambda x: 1 if x > 0.6 else 0)\n",
    "\n",
    "#Crea una nueva función para transacciones normales (no fraudulentas).\n",
    "dataset.loc[dataset.Class == 0, 'Clase'] = 0\n",
    "dataset.loc[dataset.Class == 1, 'Clase'] = 1\n",
    "dataset = dataset.drop(['Class'], axis =1)"
   ]
  },
  {
   "cell_type": "code",
   "execution_count": 15,
   "metadata": {
    "_cell_guid": "976a06ca-b1d3-44b6-bc3e-8afd7160b63d",
    "_uuid": "7affa3554319cade77750157fd168813c53db17a"
   },
   "outputs": [
    {
     "name": "stdout",
     "output_type": "stream",
     "text": [
      "37\n"
     ]
    }
   ],
   "source": [
    "# Parameters and results\n",
    "# Disminuya todas las características que tienen distribuciones muy similares entre los dos tipos de transacciones.\n",
    "print(dataset.shape[1])\n",
    "n_len=dataset.shape[1]\n",
    "pd.set_option(\"display.max_columns\",101)\n",
    "dataset.head()\n",
    "\n",
    "x = dataset.iloc[: , 1:n_len-1].values\n",
    "y = dataset.iloc[:, n_len-1].values"
   ]
  },
  {
   "cell_type": "code",
   "execution_count": null,
   "metadata": {},
   "outputs": [],
   "source": []
  },
  {
   "cell_type": "code",
   "execution_count": 16,
   "metadata": {
    "_cell_guid": "976a06ca-b1d3-44b6-bc3e-8afd7160b63d",
    "_uuid": "7affa3554319cade77750157fd168813c53db17a"
   },
   "outputs": [],
   "source": [
    "# Handling Missing Values\n",
    "imputer = SimpleImputer(missing_values=np.nan, strategy=\"mean\")\n",
    "imputer = imputer.fit(x[:, 1::n_len-1])\n",
    "x[:, 1::n_len-1] = imputer.fit_transform(x[:, 1::n_len-1])\n",
    "\n",
    "# Feature Scaling\n",
    "\n",
    "from sklearn.preprocessing import StandardScaler\n",
    "sc_x = StandardScaler()\n",
    "x = sc_x.fit_transform(x)"
   ]
  },
  {
   "cell_type": "markdown",
   "metadata": {},
   "source": [
    "#FOLDS"
   ]
  },
  {
   "cell_type": "code",
   "execution_count": 17,
   "metadata": {},
   "outputs": [],
   "source": [
    "#from sklearn.model_selection import KFold, cross_validate\n",
    "#scoring = ['accuracy', 'f1']\n",
    "#kfold = KFold(n_splits=3)\n",
    "#kfold = KFold(n_splits=6, random_state=0)"
   ]
  },
  {
   "cell_type": "code",
   "execution_count": 18,
   "metadata": {},
   "outputs": [],
   "source": [
    "#results = cross_validate(rf_classifier,x,y,cv=kfold, scoring=scoring,return_train_score=False)\n"
   ]
  },
  {
   "cell_type": "markdown",
   "metadata": {},
   "source": [
    "#  XgBoost Model"
   ]
  },
  {
   "cell_type": "code",
   "execution_count": 19,
   "metadata": {},
   "outputs": [],
   "source": [
    "from sklearn.model_selection import train_test_split\n",
    "train_x, test_x, train_y, test_y = train_test_split(x, y,test_size = 0.25, random_state = 42)"
   ]
  },
  {
   "cell_type": "code",
   "execution_count": 20,
   "metadata": {},
   "outputs": [],
   "source": [
    "from imblearn.over_sampling import SMOTE\n",
    "sm = SMOTE(random_state=2)\n",
    "train_X, train_Y = sm.fit_sample(train_x, train_y)"
   ]
  },
  {
   "cell_type": "code",
   "execution_count": 21,
   "metadata": {},
   "outputs": [],
   "source": [
    "import xgboost as xgb\n",
    "xgb_classifier=xgb.XGBClassifier(colsample_bytree= 0.8, learning_rate= 0.3,\n",
    "                                 min_child_weight= 1.0, n_estimators= 100,\n",
    "                                 subsample= 0.7,reg_lambda= 0.1, max_depth= 15,gamma= 1.0)\n"
   ]
  },
  {
   "cell_type": "code",
   "execution_count": 22,
   "metadata": {},
   "outputs": [
    {
     "data": {
      "text/plain": [
       "XGBClassifier(base_score=0.5, colsample_bylevel=1, colsample_bytree=0.8,\n",
       "       gamma=1.0, learning_rate=0.3, max_delta_step=0, max_depth=15,\n",
       "       min_child_weight=1.0, missing=None, n_estimators=100, nthread=-1,\n",
       "       objective='binary:logistic', reg_alpha=0, reg_lambda=0.1,\n",
       "       scale_pos_weight=1, seed=0, silent=True, subsample=0.7)"
      ]
     },
     "execution_count": 22,
     "metadata": {},
     "output_type": "execute_result"
    }
   ],
   "source": [
    "xgb_classifier.fit(train_x, train_y)"
   ]
  },
  {
   "cell_type": "code",
   "execution_count": 23,
   "metadata": {},
   "outputs": [],
   "source": [
    "y_predict = xgb_classifier.predict(test_x)"
   ]
  },
  {
   "cell_type": "code",
   "execution_count": 26,
   "metadata": {},
   "outputs": [],
   "source": [
    "from sklearn.metrics import accuracy_score\n",
    "accura= accuracy_score(test_y, y_predict)  \n",
    "\n",
    "from sklearn.metrics import f1_score\n",
    "f1score= f1_score(test_y, y_predict)  \n",
    "\n",
    "from sklearn.metrics import recall_score\n",
    "recall= recall_score(test_y, y_predict)  \n",
    "\n"
   ]
  },
  {
   "cell_type": "code",
   "execution_count": 27,
   "metadata": {},
   "outputs": [
    {
     "name": "stdout",
     "output_type": "stream",
     "text": [
      "('accuracy: ', 0.99957866352068758)\n",
      "('f1_score: ', 0.85576923076923084)\n",
      "('recall: ', 0.78761061946902655)\n"
     ]
    }
   ],
   "source": [
    "print(\"accuracy: \",accura)\n",
    "print(\"f1_score: \",f1score)\n",
    "print(\"recall: \",recall)"
   ]
  },
  {
   "cell_type": "code",
   "execution_count": null,
   "metadata": {},
   "outputs": [],
   "source": []
  }
 ],
 "metadata": {
  "kernelspec": {
   "display_name": "Python 2",
   "language": "python",
   "name": "python2"
  },
  "language_info": {
   "codemirror_mode": {
    "name": "ipython",
    "version": 2
   },
   "file_extension": ".py",
   "mimetype": "text/x-python",
   "name": "python",
   "nbconvert_exporter": "python",
   "pygments_lexer": "ipython2",
   "version": "2.7.16"
  }
 },
 "nbformat": 4,
 "nbformat_minor": 1
}
