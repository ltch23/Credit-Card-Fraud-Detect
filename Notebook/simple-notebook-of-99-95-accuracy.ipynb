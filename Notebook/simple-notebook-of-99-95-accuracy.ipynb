{
 "cells": [
  {
   "cell_type": "markdown",
   "metadata": {
    "_cell_guid": "3f5ccf23-61fe-4ddd-8d7e-d09df61032ea",
    "_uuid": "27e67d2e16cd9960504037d7da5796994832b814"
   },
   "source": [
    "Here in this module I'm working on two classification models : \n",
    "*    Decision Tree Classifier\n",
    "*    Ensemble Learning via Random Forest Classifier\n",
    "   \n",
    "to predict Anonymized credit card transactions as fraudulent or genuine. \n",
    "\n",
    "In order to do so I have done my data Processing : \n",
    "*    Handled Missing values : Using mean\n",
    "*    Standarised the data : Using Standardisation\n",
    "        \n",
    "Then I applied my two models, which works really well - \n",
    "*   Decision Tree Accuracy    :  99.9227549788\n",
    "*   Random Forest Accuracy    :  99.9550574422   -  A better approach to follow"
   ]
  },
  {
   "cell_type": "code",
   "execution_count": 15,
   "metadata": {
    "_cell_guid": "11290628-b996-418e-a3d6-9d36447d5ade",
    "_kg_hide-input": false,
    "_uuid": "047250539ea0427dbc3f7dd46eb7e02e79e58bf4"
   },
   "outputs": [],
   "source": [
    "# Loading libraries\n",
    "\n",
    "import pandas as pd\n",
    "import numpy as np\n",
    "import matplotlib.pyplot as plt"
   ]
  },
  {
   "cell_type": "code",
   "execution_count": 16,
   "metadata": {
    "_cell_guid": "be228bff-6554-4f52-94df-79894f2eb721",
    "_uuid": "764aeb6dd7615b00d5f050d7d6be68bd19199db1"
   },
   "outputs": [],
   "source": [
    "# Loading dataset\n",
    "\n",
    "dataset = pd.read_csv('../input/creditcard.csv')"
   ]
  },
  {
   "cell_type": "code",
   "execution_count": 17,
   "metadata": {
    "_cell_guid": "9e0506f2-74ae-4431-b916-ee48b2031669",
    "_uuid": "15e5b975c95fc170665e407dfbb72aaab134f7ee"
   },
   "outputs": [
    {
     "data": {
      "text/html": [
       "<div>\n",
       "<style scoped>\n",
       "    .dataframe tbody tr th:only-of-type {\n",
       "        vertical-align: middle;\n",
       "    }\n",
       "\n",
       "    .dataframe tbody tr th {\n",
       "        vertical-align: top;\n",
       "    }\n",
       "\n",
       "    .dataframe thead th {\n",
       "        text-align: right;\n",
       "    }\n",
       "</style>\n",
       "<table border=\"1\" class=\"dataframe\">\n",
       "  <thead>\n",
       "    <tr style=\"text-align: right;\">\n",
       "      <th></th>\n",
       "      <th>Time</th>\n",
       "      <th>V1</th>\n",
       "      <th>V2</th>\n",
       "      <th>V3</th>\n",
       "      <th>V4</th>\n",
       "      <th>V5</th>\n",
       "      <th>V6</th>\n",
       "      <th>V7</th>\n",
       "      <th>V8</th>\n",
       "      <th>V9</th>\n",
       "      <th>...</th>\n",
       "      <th>V21</th>\n",
       "      <th>V22</th>\n",
       "      <th>V23</th>\n",
       "      <th>V24</th>\n",
       "      <th>V25</th>\n",
       "      <th>V26</th>\n",
       "      <th>V27</th>\n",
       "      <th>V28</th>\n",
       "      <th>Amount</th>\n",
       "      <th>Class</th>\n",
       "    </tr>\n",
       "  </thead>\n",
       "  <tbody>\n",
       "    <tr>\n",
       "      <th>0</th>\n",
       "      <td>0.0</td>\n",
       "      <td>-1.359807</td>\n",
       "      <td>-0.072781</td>\n",
       "      <td>2.536347</td>\n",
       "      <td>1.378155</td>\n",
       "      <td>-0.338321</td>\n",
       "      <td>0.462388</td>\n",
       "      <td>0.239599</td>\n",
       "      <td>0.098698</td>\n",
       "      <td>0.363787</td>\n",
       "      <td>...</td>\n",
       "      <td>-0.018307</td>\n",
       "      <td>0.277838</td>\n",
       "      <td>-0.110474</td>\n",
       "      <td>0.066928</td>\n",
       "      <td>0.128539</td>\n",
       "      <td>-0.189115</td>\n",
       "      <td>0.133558</td>\n",
       "      <td>-0.021053</td>\n",
       "      <td>149.62</td>\n",
       "      <td>0</td>\n",
       "    </tr>\n",
       "    <tr>\n",
       "      <th>1</th>\n",
       "      <td>0.0</td>\n",
       "      <td>1.191857</td>\n",
       "      <td>0.266151</td>\n",
       "      <td>0.166480</td>\n",
       "      <td>0.448154</td>\n",
       "      <td>0.060018</td>\n",
       "      <td>-0.082361</td>\n",
       "      <td>-0.078803</td>\n",
       "      <td>0.085102</td>\n",
       "      <td>-0.255425</td>\n",
       "      <td>...</td>\n",
       "      <td>-0.225775</td>\n",
       "      <td>-0.638672</td>\n",
       "      <td>0.101288</td>\n",
       "      <td>-0.339846</td>\n",
       "      <td>0.167170</td>\n",
       "      <td>0.125895</td>\n",
       "      <td>-0.008983</td>\n",
       "      <td>0.014724</td>\n",
       "      <td>2.69</td>\n",
       "      <td>0</td>\n",
       "    </tr>\n",
       "    <tr>\n",
       "      <th>2</th>\n",
       "      <td>1.0</td>\n",
       "      <td>-1.358354</td>\n",
       "      <td>-1.340163</td>\n",
       "      <td>1.773209</td>\n",
       "      <td>0.379780</td>\n",
       "      <td>-0.503198</td>\n",
       "      <td>1.800499</td>\n",
       "      <td>0.791461</td>\n",
       "      <td>0.247676</td>\n",
       "      <td>-1.514654</td>\n",
       "      <td>...</td>\n",
       "      <td>0.247998</td>\n",
       "      <td>0.771679</td>\n",
       "      <td>0.909412</td>\n",
       "      <td>-0.689281</td>\n",
       "      <td>-0.327642</td>\n",
       "      <td>-0.139097</td>\n",
       "      <td>-0.055353</td>\n",
       "      <td>-0.059752</td>\n",
       "      <td>378.66</td>\n",
       "      <td>0</td>\n",
       "    </tr>\n",
       "    <tr>\n",
       "      <th>3</th>\n",
       "      <td>1.0</td>\n",
       "      <td>-0.966272</td>\n",
       "      <td>-0.185226</td>\n",
       "      <td>1.792993</td>\n",
       "      <td>-0.863291</td>\n",
       "      <td>-0.010309</td>\n",
       "      <td>1.247203</td>\n",
       "      <td>0.237609</td>\n",
       "      <td>0.377436</td>\n",
       "      <td>-1.387024</td>\n",
       "      <td>...</td>\n",
       "      <td>-0.108300</td>\n",
       "      <td>0.005274</td>\n",
       "      <td>-0.190321</td>\n",
       "      <td>-1.175575</td>\n",
       "      <td>0.647376</td>\n",
       "      <td>-0.221929</td>\n",
       "      <td>0.062723</td>\n",
       "      <td>0.061458</td>\n",
       "      <td>123.50</td>\n",
       "      <td>0</td>\n",
       "    </tr>\n",
       "    <tr>\n",
       "      <th>4</th>\n",
       "      <td>2.0</td>\n",
       "      <td>-1.158233</td>\n",
       "      <td>0.877737</td>\n",
       "      <td>1.548718</td>\n",
       "      <td>0.403034</td>\n",
       "      <td>-0.407193</td>\n",
       "      <td>0.095921</td>\n",
       "      <td>0.592941</td>\n",
       "      <td>-0.270533</td>\n",
       "      <td>0.817739</td>\n",
       "      <td>...</td>\n",
       "      <td>-0.009431</td>\n",
       "      <td>0.798278</td>\n",
       "      <td>-0.137458</td>\n",
       "      <td>0.141267</td>\n",
       "      <td>-0.206010</td>\n",
       "      <td>0.502292</td>\n",
       "      <td>0.219422</td>\n",
       "      <td>0.215153</td>\n",
       "      <td>69.99</td>\n",
       "      <td>0</td>\n",
       "    </tr>\n",
       "  </tbody>\n",
       "</table>\n",
       "<p>5 rows × 31 columns</p>\n",
       "</div>"
      ],
      "text/plain": [
       "   Time        V1        V2        V3        V4        V5        V6        V7  \\\n",
       "0   0.0 -1.359807 -0.072781  2.536347  1.378155 -0.338321  0.462388  0.239599   \n",
       "1   0.0  1.191857  0.266151  0.166480  0.448154  0.060018 -0.082361 -0.078803   \n",
       "2   1.0 -1.358354 -1.340163  1.773209  0.379780 -0.503198  1.800499  0.791461   \n",
       "3   1.0 -0.966272 -0.185226  1.792993 -0.863291 -0.010309  1.247203  0.237609   \n",
       "4   2.0 -1.158233  0.877737  1.548718  0.403034 -0.407193  0.095921  0.592941   \n",
       "\n",
       "         V8        V9  ...       V21       V22       V23       V24       V25  \\\n",
       "0  0.098698  0.363787  ... -0.018307  0.277838 -0.110474  0.066928  0.128539   \n",
       "1  0.085102 -0.255425  ... -0.225775 -0.638672  0.101288 -0.339846  0.167170   \n",
       "2  0.247676 -1.514654  ...  0.247998  0.771679  0.909412 -0.689281 -0.327642   \n",
       "3  0.377436 -1.387024  ... -0.108300  0.005274 -0.190321 -1.175575  0.647376   \n",
       "4 -0.270533  0.817739  ... -0.009431  0.798278 -0.137458  0.141267 -0.206010   \n",
       "\n",
       "        V26       V27       V28  Amount  Class  \n",
       "0 -0.189115  0.133558 -0.021053  149.62      0  \n",
       "1  0.125895 -0.008983  0.014724    2.69      0  \n",
       "2 -0.139097 -0.055353 -0.059752  378.66      0  \n",
       "3 -0.221929  0.062723  0.061458  123.50      0  \n",
       "4  0.502292  0.219422  0.215153   69.99      0  \n",
       "\n",
       "[5 rows x 31 columns]"
      ]
     },
     "execution_count": 17,
     "metadata": {},
     "output_type": "execute_result"
    }
   ],
   "source": [
    "dataset.head()"
   ]
  },
  {
   "cell_type": "code",
   "execution_count": 18,
   "metadata": {
    "_cell_guid": "976a06ca-b1d3-44b6-bc3e-8afd7160b63d",
    "_uuid": "7affa3554319cade77750157fd168813c53db17a"
   },
   "outputs": [],
   "source": [
    "# Parameters and results\n",
    "\n",
    "x = dataset.iloc[: , 1:30].values\n",
    "y = dataset.iloc[:, 30].values"
   ]
  },
  {
   "cell_type": "code",
   "execution_count": 19,
   "metadata": {
    "_cell_guid": "f05003e5-cbdf-45a9-b15e-e4c64cf9e34d",
    "_uuid": "dc72f1c441f50c220f637de485a200ae277b47fb"
   },
   "outputs": [
    {
     "name": "stdout",
     "output_type": "stream",
     "text": [
      "('Parameters : \\n ', array([[-1.35980713e+00, -7.27811733e-02,  2.53634674e+00, ...,\n",
      "         1.33558377e-01, -2.10530535e-02,  1.49620000e+02],\n",
      "       [ 1.19185711e+00,  2.66150712e-01,  1.66480113e-01, ...,\n",
      "        -8.98309914e-03,  1.47241692e-02,  2.69000000e+00],\n",
      "       [-1.35835406e+00, -1.34016307e+00,  1.77320934e+00, ...,\n",
      "        -5.53527940e-02, -5.97518406e-02,  3.78660000e+02],\n",
      "       ...,\n",
      "       [ 1.91956501e+00, -3.01253846e-01, -3.24963981e+00, ...,\n",
      "         4.45477214e-03, -2.65608286e-02,  6.78800000e+01],\n",
      "       [-2.40440050e-01,  5.30482513e-01,  7.02510230e-01, ...,\n",
      "         1.08820735e-01,  1.04532821e-01,  1.00000000e+01],\n",
      "       [-5.33412522e-01, -1.89733337e-01,  7.03337367e-01, ...,\n",
      "        -2.41530880e-03,  1.36489143e-02,  2.17000000e+02]]))\n"
     ]
    }
   ],
   "source": [
    "print(\"Parameters : \\n \", x)"
   ]
  },
  {
   "cell_type": "code",
   "execution_count": 20,
   "metadata": {
    "_cell_guid": "df9524f1-d5c1-4478-92c8-fff15bd28bcd",
    "_uuid": "c79a3da83774565470054b0dd1b65c372262a71f"
   },
   "outputs": [
    {
     "name": "stdout",
     "output_type": "stream",
     "text": [
      "('Results : \\n ', array([0, 0, 0, ..., 0, 0, 0], dtype=int64))\n"
     ]
    }
   ],
   "source": [
    "print(\"Results : \\n \", y)"
   ]
  },
  {
   "cell_type": "code",
   "execution_count": 21,
   "metadata": {
    "_cell_guid": "7c69b26c-682a-4ff6-bd7f-be79da2c5fdb",
    "_uuid": "1d3463b0bdd2f5ec81606a9b4e403aa8a9200485"
   },
   "outputs": [
    {
     "name": "stderr",
     "output_type": "stream",
     "text": [
      "C:\\ProgramData\\Anaconda3\\lib\\site-packages\\sklearn\\utils\\deprecation.py:58: DeprecationWarning: Class Imputer is deprecated; Imputer was deprecated in version 0.20 and will be removed in 0.22. Import impute.SimpleImputer from sklearn instead.\n",
      "  warnings.warn(msg, category=DeprecationWarning)\n"
     ]
    }
   ],
   "source": [
    "# Handling Missing Values\n",
    "\n",
    "from sklearn.preprocessing import Imputer\n",
    "imputer = Imputer(missing_values=\"NaN\", strategy=\"mean\", axis=0)\n",
    "imputer = imputer.fit(x[:, 1:30])\n",
    "x[:, 1:30] = imputer.fit_transform(x[:, 1:30])"
   ]
  },
  {
   "cell_type": "code",
   "execution_count": 22,
   "metadata": {
    "_cell_guid": "29512e28-3382-407b-b9e2-499156512f3f",
    "_uuid": "53bb752cf935b59ef37fb7f2fe15a879f658e85c"
   },
   "outputs": [],
   "source": [
    "# Splitting the data-set\n",
    "from sklearn.model_selection import train_test_split\n",
    "xtrain, xtest, ytrain, ytest = train_test_split(x, y, test_size=0.25, random_state = 0)"
   ]
  },
  {
   "cell_type": "code",
   "execution_count": 23,
   "metadata": {
    "_cell_guid": "88ce5dc2-d14f-487a-90d7-6635febc3747",
    "_uuid": "dff5638cf7420e5b71f6fb3b38e5521383fa708e"
   },
   "outputs": [
    {
     "name": "stdout",
     "output_type": "stream",
     "text": [
      "('xtrain.shape : ', (213605L, 29L))\n",
      "('xtest.shape  : ', (71202L, 29L))\n",
      "('ytrain.shape : ', (213605L,))\n",
      "('xtest.shape  : ', (71202L, 29L))\n",
      "('\\nxtrain  : \\n', array([[ 2.04716304e+00,  1.07986610e-01, -1.80651506e+00, ...,\n",
      "        -8.50246556e-02, -8.42920007e-02,  7.70000000e-01],\n",
      "       [ 1.28240449e+00,  4.59864448e-01, -3.72285844e-01, ...,\n",
      "        -1.01678633e-02, -5.33248686e-03,  1.79000000e+00],\n",
      "       [-4.14862511e-01,  1.20257796e-02,  1.35638604e+00, ...,\n",
      "         2.37627707e-01,  2.04342556e-01,  5.95000000e+00],\n",
      "       ...,\n",
      "       [ 1.51260229e+00, -9.49435315e-01, -2.19061626e-01, ...,\n",
      "        -1.41537086e-03,  3.66494418e-03,  3.49000000e+01],\n",
      "       [ 1.79886333e+00, -1.69979073e+00, -1.42182189e-01, ...,\n",
      "        -3.36155803e-02, -3.24705125e-02,  1.71310000e+02],\n",
      "       [-5.89399721e-01,  7.47828393e-01,  1.78478144e+00, ...,\n",
      "         8.65917860e-02,  1.18083774e-01,  1.59900000e+01]]))\n",
      "('\\n\\nxtest : \\n', array([[-3.23333572e-01,  1.05745525e+00, -4.83411518e-02, ...,\n",
      "         1.08494430e-01,  1.61139167e-01,  4.00000000e+01],\n",
      "       [-3.49718405e-01,  9.32618570e-01,  1.42992038e-01, ...,\n",
      "         7.68300272e-02,  1.75561960e-01,  1.98000000e+00],\n",
      "       [-1.61471082e+00, -2.40656973e+00,  3.26193929e-01, ...,\n",
      "         2.86285101e-01,  4.37321868e-01,  9.60000000e+01],\n",
      "       ...,\n",
      "       [ 1.40322087e+00, -4.39300461e-01,  2.26984840e-01, ...,\n",
      "        -1.04050698e-02,  6.48925492e-03,  1.00000000e+01],\n",
      "       [-3.23131065e+00,  2.10313977e+00, -7.30148288e-01, ...,\n",
      "         4.72312731e-01, -1.92528808e-01,  9.99900000e+01],\n",
      "       [ 1.25756139e+00, -7.24477151e-01, -8.31868281e-02, ...,\n",
      "        -1.01754487e-01,  1.19557412e-02,  9.00000000e+01]]))\n",
      "('\\nytrain  : \\n', array([[ 2.04716304e+00,  1.07986610e-01, -1.80651506e+00, ...,\n",
      "        -8.50246556e-02, -8.42920007e-02,  7.70000000e-01],\n",
      "       [ 1.28240449e+00,  4.59864448e-01, -3.72285844e-01, ...,\n",
      "        -1.01678633e-02, -5.33248686e-03,  1.79000000e+00],\n",
      "       [-4.14862511e-01,  1.20257796e-02,  1.35638604e+00, ...,\n",
      "         2.37627707e-01,  2.04342556e-01,  5.95000000e+00],\n",
      "       ...,\n",
      "       [ 1.51260229e+00, -9.49435315e-01, -2.19061626e-01, ...,\n",
      "        -1.41537086e-03,  3.66494418e-03,  3.49000000e+01],\n",
      "       [ 1.79886333e+00, -1.69979073e+00, -1.42182189e-01, ...,\n",
      "        -3.36155803e-02, -3.24705125e-02,  1.71310000e+02],\n",
      "       [-5.89399721e-01,  7.47828393e-01,  1.78478144e+00, ...,\n",
      "         8.65917860e-02,  1.18083774e-01,  1.59900000e+01]]))\n",
      "('\\nytest   : \\n', array([[ 2.04716304e+00,  1.07986610e-01, -1.80651506e+00, ...,\n",
      "        -8.50246556e-02, -8.42920007e-02,  7.70000000e-01],\n",
      "       [ 1.28240449e+00,  4.59864448e-01, -3.72285844e-01, ...,\n",
      "        -1.01678633e-02, -5.33248686e-03,  1.79000000e+00],\n",
      "       [-4.14862511e-01,  1.20257796e-02,  1.35638604e+00, ...,\n",
      "         2.37627707e-01,  2.04342556e-01,  5.95000000e+00],\n",
      "       ...,\n",
      "       [ 1.51260229e+00, -9.49435315e-01, -2.19061626e-01, ...,\n",
      "        -1.41537086e-03,  3.66494418e-03,  3.49000000e+01],\n",
      "       [ 1.79886333e+00, -1.69979073e+00, -1.42182189e-01, ...,\n",
      "        -3.36155803e-02, -3.24705125e-02,  1.71310000e+02],\n",
      "       [-5.89399721e-01,  7.47828393e-01,  1.78478144e+00, ...,\n",
      "         8.65917860e-02,  1.18083774e-01,  1.59900000e+01]]))\n"
     ]
    }
   ],
   "source": [
    "print(\"xtrain.shape : \", xtrain.shape)\n",
    "print(\"xtest.shape  : \", xtest.shape)\n",
    "print(\"ytrain.shape : \", ytrain.shape)\n",
    "print(\"xtest.shape  : \", xtest.shape)\n",
    "\n",
    "print(\"\\nxtrain  : \\n\", xtrain)\n",
    "print(\"\\n\\nxtest : \\n\", xtest)\n",
    "print(\"\\nytrain  : \\n\", xtrain)\n",
    "print(\"\\nytest   : \\n\", xtrain)"
   ]
  },
  {
   "cell_type": "code",
   "execution_count": 24,
   "metadata": {
    "_cell_guid": "5169aa9b-4fc7-4133-8bd0-26dabf815c25",
    "_uuid": "992db22c2cf13ff4a59479882dbe664d32f9f556"
   },
   "outputs": [],
   "source": [
    "# Feature Scaling\n",
    "\n",
    "from sklearn.preprocessing import StandardScaler\n",
    "sc_x = StandardScaler()\n",
    "xtrain = sc_x.fit_transform(xtrain)\n",
    "xtest = sc_x.transform(xtest)"
   ]
  },
  {
   "cell_type": "markdown",
   "metadata": {
    "_cell_guid": "3ce9137b-5ad2-46e4-9b8a-d9e000f027ff",
    "_uuid": "3c1962328131379497e24f4e56d9eb2962d3e85b"
   },
   "source": [
    "# Ensemble Learning : Random Forest Classification Model"
   ]
  },
  {
   "cell_type": "code",
   "execution_count": 25,
   "metadata": {
    "_cell_guid": "32505aca-64d7-4927-aa5a-95b074cca8b4",
    "_uuid": "91662af6b6427c9019961dbffd39ac575e7b54fd"
   },
   "outputs": [
    {
     "data": {
      "text/plain": [
       "RandomForestClassifier(bootstrap=True, class_weight=None, criterion='entropy',\n",
       "            max_depth=None, max_features='auto', max_leaf_nodes=None,\n",
       "            min_impurity_decrease=0.0, min_impurity_split=None,\n",
       "            min_samples_leaf=1, min_samples_split=2,\n",
       "            min_weight_fraction_leaf=0.0, n_estimators=100, n_jobs=None,\n",
       "            oob_score=False, random_state=0, verbose=0, warm_start=False)"
      ]
     },
     "execution_count": 25,
     "metadata": {},
     "output_type": "execute_result"
    }
   ],
   "source": [
    "# Fitting Random Forest Model to the dataset\n",
    "\n",
    "from sklearn.ensemble import RandomForestClassifier\n",
    "rf_classifier = RandomForestClassifier(n_estimators=100, criterion = 'entropy', random_state = 0 )\n",
    "rf_classifier.fit(xtrain, ytrain)"
   ]
  },
  {
   "cell_type": "code",
   "execution_count": 26,
   "metadata": {
    "_cell_guid": "3d326ae5-7e8e-4208-99be-5eccd54db443",
    "_uuid": "a91208a686165658553398a8f82fdd79ea92fb81"
   },
   "outputs": [],
   "source": [
    "# Predicting the Test set results\n",
    "\n",
    "y_pred_randomforest = rf_classifier.predict(xtest)"
   ]
  },
  {
   "cell_type": "code",
   "execution_count": 27,
   "metadata": {
    "_cell_guid": "59ef9b52-0fe9-43b4-b56e-044cf32efcab",
    "_uuid": "76c9538e1379fd0c2f3156619909588de64790c9"
   },
   "outputs": [
    {
     "name": "stdout",
     "output_type": "stream",
     "text": [
      "('y_pred_randomforest : \\n', array([0, 0, 0, ..., 0, 0, 0], dtype=int64))\n"
     ]
    }
   ],
   "source": [
    "print(\"y_pred_randomforest : \\n\", y_pred_randomforest)"
   ]
  },
  {
   "cell_type": "code",
   "execution_count": 28,
   "metadata": {
    "_cell_guid": "d33ffd97-ee1c-436b-adba-09b65a7c5159",
    "_uuid": "a7817cab2ba7f2a7f2233735d78ed97b10d03371"
   },
   "outputs": [],
   "source": [
    "# Making the Confusion Matrix to validate the Random Forest Model\n",
    "\n",
    "from sklearn.metrics import confusion_matrix\n",
    "cm_rainforest = confusion_matrix(ytest, y_pred_randomforest)"
   ]
  },
  {
   "cell_type": "code",
   "execution_count": 29,
   "metadata": {
    "_cell_guid": "459f913e-85e4-4302-9242-5f9dc46943e1",
    "_uuid": "41017dbd87e79db053b0b944317d78ac0e1c8f4a"
   },
   "outputs": [
    {
     "name": "stdout",
     "output_type": "stream",
     "text": [
      "('Accuracy_rainforest    : ', 0)\n",
      "('Error_rate_rainforest  : ', 0)\n",
      "('Specificity_rainforest : ', 0)\n",
      "('Sensitivity_rainforest : ', 0)\n"
     ]
    }
   ],
   "source": []
  },
  {
   "cell_type": "markdown",
   "metadata": {
    "_cell_guid": "c963b9fd-da97-46d6-b2e3-7a25b9c75c28",
    "_uuid": "0f9300865f76b0348faed6e369fec13031866233"
   },
   "source": [
    "Since I have already used the Standardisation of dataset - using StandardScaler. \n",
    "That's why I used Confusion Matrix to check the Accuracy of my model :)"
   ]
  }
 ],
 "metadata": {
  "kernelspec": {
   "display_name": "Python 2",
   "language": "python",
   "name": "python2"
  },
  "language_info": {
   "codemirror_mode": {
    "name": "ipython",
    "version": 2
   },
   "file_extension": ".py",
   "mimetype": "text/x-python",
   "name": "python",
   "nbconvert_exporter": "python",
   "pygments_lexer": "ipython2",
   "version": "2.7.16"
  }
 },
 "nbformat": 4,
 "nbformat_minor": 1
}
