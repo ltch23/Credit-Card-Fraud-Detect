{
 "cells": [
  {
   "cell_type": "markdown",
   "metadata": {
    "_cell_guid": "5fd61b05-3123-f9f2-07b4-65f494b1d197",
    "_uuid": "0f3dbdc4e3335bb27f57a0e702d865c85fc8156c"
   },
   "source": [
    "El objetivo de este análisis es predecir el fraude con tarjeta de crédito en los datos transaccionales. Utilizaré tensorflow para construir el modelo predictivo y t-SNE para visualizar el conjunto de datos en dos dimensiones al final de este análisis. \n",
    "Las secciones de este análisis incluyen:\n",
    "\n",
    "  - Explorando los datos\n",
    "  - Construyendo la red neuronal\n",
    "  \n",
    "Referencia: https://www.kaggle.com/currie32/predicting-fraud-with-tensorflow "
   ]
  },
  {
   "cell_type": "code",
   "execution_count": 1,
   "metadata": {
    "_cell_guid": "fa5b0b2c-61af-c331-5189-ea7a7da91af4",
    "_uuid": "de05bed502fd65cad104788f58e932614734c55e"
   },
   "outputs": [],
   "source": [
    "\n",
    "import pandas as pd\n",
    "import numpy as np \n",
    "import tensorflow as tf\n",
    "from sklearn.model_selection import train_test_split\n",
    "import matplotlib.pyplot as plt\n",
    "from sklearn.utils import shuffle\n",
    "from sklearn.metrics import confusion_matrix\n",
    "import seaborn as sns\n",
    "import matplotlib.gridspec as gridspec\n",
    "from sklearn.preprocessing import StandardScaler\n",
    "from sklearn.manifold import TSNE\n",
    "from sklearn.metrics import f1_score\n",
    "# from show_confusion_matrix import show_confusion_matrix "
   ]
  },
  {
   "cell_type": "code",
   "execution_count": 35,
   "metadata": {
    "_cell_guid": "2fb18cab-d30f-a0b4-e2ac-965e8d54f46c",
    "_uuid": "de775ed1950992371acafb24ad6be9dec093f418"
   },
   "outputs": [],
   "source": [
    "\n",
    "df = pd.read_csv(\"creditcard.csv\")"
   ]
  },
  {
   "cell_type": "markdown",
   "metadata": {
    "_cell_guid": "506f5726-aa78-c07e-3897-50a8e30c28d0",
    "_uuid": "4fa75815090e33ea3da0fe57679e0e12cc4d6964"
   },
   "source": [
    "## Explorando los datos"
   ]
  },
  {
   "cell_type": "markdown",
   "metadata": {
    "_cell_guid": "fb2dbbb5-0d64-31e3-b0e3-1ac419b476a2",
    "_uuid": "07dc2e2bf35d5d328f9ad7250bc2191b709d5214"
   },
   "source": [
    "Los datos se transforman principalmente de su forma original, por razones de confidencialidad."
   ]
  },
  {
   "cell_type": "markdown",
   "metadata": {
    "_cell_guid": "deca11b4-e0eb-6f0c-a7f1-af499df38a49",
    "_uuid": "060ff4a5786d261bc13f90709d701c25517b2e69"
   },
   "source": [
    "No hay valores perdidos, eso hace las cosas un poco más fáciles.\n",
    "\n",
    "Veamos cómo se compara el tiempo en transacciones normales y fraudulentas."
   ]
  },
  {
   "cell_type": "markdown",
   "metadata": {
    "_cell_guid": "d60b2c81-ea2c-fdc8-4e00-3f6b12af5fba",
    "_uuid": "942efe321a303904cab9a45f2a1e6aaff2eba15d"
   },
   "source": [
    "La función 'Tiempo' se ve bastante similar en ambos tipos de transacciones. Podría argumentar que las transacciones fraudulentas se distribuyen de manera más uniforme, mientras que las transacciones normales tienen una distribución cíclica. Esto podría facilitar la detección de una transacción fraudulenta durante el horario \"fuera de temporada\".\n",
    "\n",
    "Ahora veamos si el monto de la transacción difiere entre los dos tipos."
   ]
  },
  {
   "cell_type": "code",
   "execution_count": 43,
   "metadata": {
    "_cell_guid": "da6ecbcc-b994-6e1b-43b2-42a4801366f0",
    "_uuid": "8194ecfdc5943c7dd578c94b36bb8a5d48677580"
   },
   "outputs": [],
   "source": [
    "df['Amount_max_fraud'] = 1\n",
    "df.loc[df.Amount <= 2125.87, 'Amount_max_fraud'] = 0"
   ]
  },
  {
   "cell_type": "markdown",
   "metadata": {
    "_cell_guid": "c6129477-c175-ef7a-1d5b-a331a905c524",
    "_uuid": "9bd7db24e8724e978bdaf0c8cc1a5fb37c10f07d"
   },
   "source": [
    "La mayoría de las transacciones son montos pequeños, menos de $ 100.\n",
    "Las transacciones fraudulentas tienen un valor máximo muy inferior a las transacciones normales, $ 2,125.87 frente a $ 25,691.16.\n",
    "\n",
    "Comparemos el tiempo con la cantidad y veamos si podemos aprender algo nuevo."
   ]
  },
  {
   "cell_type": "markdown",
   "metadata": {
    "_cell_guid": "51380e8e-f55c-f7da-5abb-b8f74900b0df",
    "_uuid": "3584f3eba5a8781ac57a48fe5df69c8945ffd930"
   },
   "source": [
    "Nada demasiado útil aquí.\n",
    "\n",
    "A continuación, echemos un vistazo a las características anónimas."
   ]
  },
  {
   "cell_type": "code",
   "execution_count": 45,
   "metadata": {
    "_cell_guid": "517128c8-9467-8225-791a-72fbe90fcbf6",
    "_uuid": "4b068a4a3cd41aa81260405d356b31f7c54be7e8"
   },
   "outputs": [],
   "source": [
    "# Seleccione solo las características anónimas.\n",
    "v_features = df.iloc[:,1:29].columns"
   ]
  },
  {
   "cell_type": "code",
   "execution_count": 47,
   "metadata": {
    "_cell_guid": "09f58878-6f5a-d903-e0be-cdabfb5ed662",
    "_uuid": "963188b8f4fcc6705ce0764bf6cea96b4bf49052"
   },
   "outputs": [],
   "source": [
    "# Disminuya todas las características que tienen distribuciones muy similares entre los dos tipos de transacciones.\n",
    "df = df.drop(['V28','V27','V26','V25','V24','V23','V22','V20','V15','V13','V8'], axis =1)"
   ]
  },
  {
   "cell_type": "code",
   "execution_count": 48,
   "metadata": {
    "_cell_guid": "5414a61d-38b4-a927-c31f-5afba5feef08",
    "_uuid": "058d4be5d834210fe4b77d98edfdc70b219161a1"
   },
   "outputs": [],
   "source": [
    "# Basado en los trazados anteriores, estas características se crean para identificar valores donde las transacciones fraudulentas son más comunes.\n",
    "df['V1_'] = df.V1.map(lambda x: 1 if x < -3 else 0)\n",
    "df['V2_'] = df.V2.map(lambda x: 1 if x > 2.5 else 0)\n",
    "df['V3_'] = df.V3.map(lambda x: 1 if x < -4 else 0)\n",
    "df['V4_'] = df.V4.map(lambda x: 1 if x > 2.5 else 0)\n",
    "df['V5_'] = df.V5.map(lambda x: 1 if x < -4.5 else 0)\n",
    "df['V6_'] = df.V6.map(lambda x: 1 if x < -2.5 else 0)\n",
    "df['V7_'] = df.V7.map(lambda x: 1 if x < -3 else 0)\n",
    "df['V9_'] = df.V9.map(lambda x: 1 if x < -2 else 0)\n",
    "df['V10_'] = df.V10.map(lambda x: 1 if x < -2.5 else 0)\n",
    "df['V11_'] = df.V11.map(lambda x: 1 if x > 2 else 0)\n",
    "df['V12_'] = df.V12.map(lambda x: 1 if x < -2 else 0)\n",
    "df['V14_'] = df.V14.map(lambda x: 1 if x < -2.5 else 0)\n",
    "df['V16_'] = df.V16.map(lambda x: 1 if x < -2 else 0)\n",
    "df['V17_'] = df.V17.map(lambda x: 1 if x < -2 else 0)\n",
    "df['V18_'] = df.V18.map(lambda x: 1 if x < -2 else 0)\n",
    "df['V19_'] = df.V19.map(lambda x: 1 if x > 1.5 else 0)\n",
    "df['V21_'] = df.V21.map(lambda x: 1 if x > 0.6 else 0)"
   ]
  },
  {
   "cell_type": "code",
   "execution_count": 49,
   "metadata": {
    "_cell_guid": "8901e194-87b8-c3c3-662e-b05a44a50a5e",
    "_uuid": "b44611803158895eaa0ae79df7f0f2ab8621001b"
   },
   "outputs": [],
   "source": [
    "#Crea una nueva función para transacciones normales (no fraudulentas).\n",
    "df.loc[df.Class == 0, 'Normal'] = 1\n",
    "df.loc[df.Class == 1, 'Normal'] = 0"
   ]
  },
  {
   "cell_type": "code",
   "execution_count": 50,
   "metadata": {
    "_cell_guid": "c284c3cf-7523-fbd6-9d13-026e633167c3",
    "_uuid": "143b3680b82ba9967584c1f3a758ed56c5a432b9"
   },
   "outputs": [],
   "source": [
    "# Renombrar 'Class' a 'Fraud'.\n",
    "df = df.rename(columns={'Class': 'Fraud'})"
   ]
  },
  {
   "cell_type": "code",
   "execution_count": 51,
   "metadata": {
    "_cell_guid": "afa20d7b-1a72-3bf5-a51c-066fc16dedc6",
    "_uuid": "cf9e6ebfa6de6e5216cd7b20a518fd81010186f3"
   },
   "outputs": [
    {
     "name": "stdout",
     "output_type": "stream",
     "text": [
      "1.0    284315\n",
      "0.0       492\n",
      "Name: Normal, dtype: int64\n",
      "\n",
      "0    284315\n",
      "1       492\n",
      "Name: Fraud, dtype: int64\n"
     ]
    }
   ],
   "source": [
    "# 492 transacciones fraudulentas, 284,315 transacciones normales.\n",
    "# 0.172% de las transacciones fueron fraude.\n",
    "print(df.Normal.value_counts())\n",
    "print()\n",
    "print(df.Fraud.value_counts())"
   ]
  },
  {
   "cell_type": "code",
   "execution_count": 52,
   "metadata": {
    "_cell_guid": "0ddbbdd8-9ac9-d730-8063-d0f4acdaf85b",
    "_uuid": "600a28e0d969ff2487c5b7ce94c795ecf23fd376"
   },
   "outputs": [
    {
     "data": {
      "text/html": [
       "<div>\n",
       "<style scoped>\n",
       "    .dataframe tbody tr th:only-of-type {\n",
       "        vertical-align: middle;\n",
       "    }\n",
       "\n",
       "    .dataframe tbody tr th {\n",
       "        vertical-align: top;\n",
       "    }\n",
       "\n",
       "    .dataframe thead th {\n",
       "        text-align: right;\n",
       "    }\n",
       "</style>\n",
       "<table border=\"1\" class=\"dataframe\">\n",
       "  <thead>\n",
       "    <tr style=\"text-align: right;\">\n",
       "      <th></th>\n",
       "      <th>Time</th>\n",
       "      <th>V1</th>\n",
       "      <th>V2</th>\n",
       "      <th>V3</th>\n",
       "      <th>V4</th>\n",
       "      <th>V5</th>\n",
       "      <th>V6</th>\n",
       "      <th>V7</th>\n",
       "      <th>V9</th>\n",
       "      <th>V10</th>\n",
       "      <th>V11</th>\n",
       "      <th>V12</th>\n",
       "      <th>V14</th>\n",
       "      <th>V16</th>\n",
       "      <th>V17</th>\n",
       "      <th>V18</th>\n",
       "      <th>V19</th>\n",
       "      <th>V21</th>\n",
       "      <th>Amount</th>\n",
       "      <th>Fraud</th>\n",
       "      <th>Amount_max_fraud</th>\n",
       "      <th>V1_</th>\n",
       "      <th>V2_</th>\n",
       "      <th>V3_</th>\n",
       "      <th>V4_</th>\n",
       "      <th>V5_</th>\n",
       "      <th>V6_</th>\n",
       "      <th>V7_</th>\n",
       "      <th>V9_</th>\n",
       "      <th>V10_</th>\n",
       "      <th>V11_</th>\n",
       "      <th>V12_</th>\n",
       "      <th>V14_</th>\n",
       "      <th>V16_</th>\n",
       "      <th>V17_</th>\n",
       "      <th>V18_</th>\n",
       "      <th>V19_</th>\n",
       "      <th>V21_</th>\n",
       "      <th>Normal</th>\n",
       "    </tr>\n",
       "  </thead>\n",
       "  <tbody>\n",
       "    <tr>\n",
       "      <th>0</th>\n",
       "      <td>0.0</td>\n",
       "      <td>-1.359807</td>\n",
       "      <td>-0.072781</td>\n",
       "      <td>2.536347</td>\n",
       "      <td>1.378155</td>\n",
       "      <td>-0.338321</td>\n",
       "      <td>0.462388</td>\n",
       "      <td>0.239599</td>\n",
       "      <td>0.363787</td>\n",
       "      <td>0.090794</td>\n",
       "      <td>-0.551600</td>\n",
       "      <td>-0.617801</td>\n",
       "      <td>-0.311169</td>\n",
       "      <td>-0.470401</td>\n",
       "      <td>0.207971</td>\n",
       "      <td>0.025791</td>\n",
       "      <td>0.403993</td>\n",
       "      <td>-0.018307</td>\n",
       "      <td>149.62</td>\n",
       "      <td>0</td>\n",
       "      <td>0</td>\n",
       "      <td>0</td>\n",
       "      <td>0</td>\n",
       "      <td>0</td>\n",
       "      <td>0</td>\n",
       "      <td>0</td>\n",
       "      <td>0</td>\n",
       "      <td>0</td>\n",
       "      <td>0</td>\n",
       "      <td>0</td>\n",
       "      <td>0</td>\n",
       "      <td>0</td>\n",
       "      <td>0</td>\n",
       "      <td>0</td>\n",
       "      <td>0</td>\n",
       "      <td>0</td>\n",
       "      <td>0</td>\n",
       "      <td>0</td>\n",
       "      <td>1.0</td>\n",
       "    </tr>\n",
       "    <tr>\n",
       "      <th>1</th>\n",
       "      <td>0.0</td>\n",
       "      <td>1.191857</td>\n",
       "      <td>0.266151</td>\n",
       "      <td>0.166480</td>\n",
       "      <td>0.448154</td>\n",
       "      <td>0.060018</td>\n",
       "      <td>-0.082361</td>\n",
       "      <td>-0.078803</td>\n",
       "      <td>-0.255425</td>\n",
       "      <td>-0.166974</td>\n",
       "      <td>1.612727</td>\n",
       "      <td>1.065235</td>\n",
       "      <td>-0.143772</td>\n",
       "      <td>0.463917</td>\n",
       "      <td>-0.114805</td>\n",
       "      <td>-0.183361</td>\n",
       "      <td>-0.145783</td>\n",
       "      <td>-0.225775</td>\n",
       "      <td>2.69</td>\n",
       "      <td>0</td>\n",
       "      <td>0</td>\n",
       "      <td>0</td>\n",
       "      <td>0</td>\n",
       "      <td>0</td>\n",
       "      <td>0</td>\n",
       "      <td>0</td>\n",
       "      <td>0</td>\n",
       "      <td>0</td>\n",
       "      <td>0</td>\n",
       "      <td>0</td>\n",
       "      <td>0</td>\n",
       "      <td>0</td>\n",
       "      <td>0</td>\n",
       "      <td>0</td>\n",
       "      <td>0</td>\n",
       "      <td>0</td>\n",
       "      <td>0</td>\n",
       "      <td>0</td>\n",
       "      <td>1.0</td>\n",
       "    </tr>\n",
       "    <tr>\n",
       "      <th>2</th>\n",
       "      <td>1.0</td>\n",
       "      <td>-1.358354</td>\n",
       "      <td>-1.340163</td>\n",
       "      <td>1.773209</td>\n",
       "      <td>0.379780</td>\n",
       "      <td>-0.503198</td>\n",
       "      <td>1.800499</td>\n",
       "      <td>0.791461</td>\n",
       "      <td>-1.514654</td>\n",
       "      <td>0.207643</td>\n",
       "      <td>0.624501</td>\n",
       "      <td>0.066084</td>\n",
       "      <td>-0.165946</td>\n",
       "      <td>-2.890083</td>\n",
       "      <td>1.109969</td>\n",
       "      <td>-0.121359</td>\n",
       "      <td>-2.261857</td>\n",
       "      <td>0.247998</td>\n",
       "      <td>378.66</td>\n",
       "      <td>0</td>\n",
       "      <td>0</td>\n",
       "      <td>0</td>\n",
       "      <td>0</td>\n",
       "      <td>0</td>\n",
       "      <td>0</td>\n",
       "      <td>0</td>\n",
       "      <td>0</td>\n",
       "      <td>0</td>\n",
       "      <td>0</td>\n",
       "      <td>0</td>\n",
       "      <td>0</td>\n",
       "      <td>0</td>\n",
       "      <td>0</td>\n",
       "      <td>1</td>\n",
       "      <td>0</td>\n",
       "      <td>0</td>\n",
       "      <td>0</td>\n",
       "      <td>0</td>\n",
       "      <td>1.0</td>\n",
       "    </tr>\n",
       "    <tr>\n",
       "      <th>3</th>\n",
       "      <td>1.0</td>\n",
       "      <td>-0.966272</td>\n",
       "      <td>-0.185226</td>\n",
       "      <td>1.792993</td>\n",
       "      <td>-0.863291</td>\n",
       "      <td>-0.010309</td>\n",
       "      <td>1.247203</td>\n",
       "      <td>0.237609</td>\n",
       "      <td>-1.387024</td>\n",
       "      <td>-0.054952</td>\n",
       "      <td>-0.226487</td>\n",
       "      <td>0.178228</td>\n",
       "      <td>-0.287924</td>\n",
       "      <td>-1.059647</td>\n",
       "      <td>-0.684093</td>\n",
       "      <td>1.965775</td>\n",
       "      <td>-1.232622</td>\n",
       "      <td>-0.108300</td>\n",
       "      <td>123.50</td>\n",
       "      <td>0</td>\n",
       "      <td>0</td>\n",
       "      <td>0</td>\n",
       "      <td>0</td>\n",
       "      <td>0</td>\n",
       "      <td>0</td>\n",
       "      <td>0</td>\n",
       "      <td>0</td>\n",
       "      <td>0</td>\n",
       "      <td>0</td>\n",
       "      <td>0</td>\n",
       "      <td>0</td>\n",
       "      <td>0</td>\n",
       "      <td>0</td>\n",
       "      <td>0</td>\n",
       "      <td>0</td>\n",
       "      <td>0</td>\n",
       "      <td>0</td>\n",
       "      <td>0</td>\n",
       "      <td>1.0</td>\n",
       "    </tr>\n",
       "    <tr>\n",
       "      <th>4</th>\n",
       "      <td>2.0</td>\n",
       "      <td>-1.158233</td>\n",
       "      <td>0.877737</td>\n",
       "      <td>1.548718</td>\n",
       "      <td>0.403034</td>\n",
       "      <td>-0.407193</td>\n",
       "      <td>0.095921</td>\n",
       "      <td>0.592941</td>\n",
       "      <td>0.817739</td>\n",
       "      <td>0.753074</td>\n",
       "      <td>-0.822843</td>\n",
       "      <td>0.538196</td>\n",
       "      <td>-1.119670</td>\n",
       "      <td>-0.451449</td>\n",
       "      <td>-0.237033</td>\n",
       "      <td>-0.038195</td>\n",
       "      <td>0.803487</td>\n",
       "      <td>-0.009431</td>\n",
       "      <td>69.99</td>\n",
       "      <td>0</td>\n",
       "      <td>0</td>\n",
       "      <td>0</td>\n",
       "      <td>0</td>\n",
       "      <td>0</td>\n",
       "      <td>0</td>\n",
       "      <td>0</td>\n",
       "      <td>0</td>\n",
       "      <td>0</td>\n",
       "      <td>0</td>\n",
       "      <td>0</td>\n",
       "      <td>0</td>\n",
       "      <td>0</td>\n",
       "      <td>0</td>\n",
       "      <td>0</td>\n",
       "      <td>0</td>\n",
       "      <td>0</td>\n",
       "      <td>0</td>\n",
       "      <td>0</td>\n",
       "      <td>1.0</td>\n",
       "    </tr>\n",
       "  </tbody>\n",
       "</table>\n",
       "</div>"
      ],
      "text/plain": [
       "   Time        V1        V2        V3        V4        V5        V6        V7  \\\n",
       "0   0.0 -1.359807 -0.072781  2.536347  1.378155 -0.338321  0.462388  0.239599   \n",
       "1   0.0  1.191857  0.266151  0.166480  0.448154  0.060018 -0.082361 -0.078803   \n",
       "2   1.0 -1.358354 -1.340163  1.773209  0.379780 -0.503198  1.800499  0.791461   \n",
       "3   1.0 -0.966272 -0.185226  1.792993 -0.863291 -0.010309  1.247203  0.237609   \n",
       "4   2.0 -1.158233  0.877737  1.548718  0.403034 -0.407193  0.095921  0.592941   \n",
       "\n",
       "         V9       V10       V11       V12       V14       V16       V17  \\\n",
       "0  0.363787  0.090794 -0.551600 -0.617801 -0.311169 -0.470401  0.207971   \n",
       "1 -0.255425 -0.166974  1.612727  1.065235 -0.143772  0.463917 -0.114805   \n",
       "2 -1.514654  0.207643  0.624501  0.066084 -0.165946 -2.890083  1.109969   \n",
       "3 -1.387024 -0.054952 -0.226487  0.178228 -0.287924 -1.059647 -0.684093   \n",
       "4  0.817739  0.753074 -0.822843  0.538196 -1.119670 -0.451449 -0.237033   \n",
       "\n",
       "        V18       V19       V21  Amount  Fraud  Amount_max_fraud  V1_  V2_  \\\n",
       "0  0.025791  0.403993 -0.018307  149.62      0                 0    0    0   \n",
       "1 -0.183361 -0.145783 -0.225775    2.69      0                 0    0    0   \n",
       "2 -0.121359 -2.261857  0.247998  378.66      0                 0    0    0   \n",
       "3  1.965775 -1.232622 -0.108300  123.50      0                 0    0    0   \n",
       "4 -0.038195  0.803487 -0.009431   69.99      0                 0    0    0   \n",
       "\n",
       "   V3_  V4_  V5_  V6_  V7_  V9_  V10_  V11_  V12_  V14_  V16_  V17_  V18_  \\\n",
       "0    0    0    0    0    0    0     0     0     0     0     0     0     0   \n",
       "1    0    0    0    0    0    0     0     0     0     0     0     0     0   \n",
       "2    0    0    0    0    0    0     0     0     0     0     1     0     0   \n",
       "3    0    0    0    0    0    0     0     0     0     0     0     0     0   \n",
       "4    0    0    0    0    0    0     0     0     0     0     0     0     0   \n",
       "\n",
       "   V19_  V21_  Normal  \n",
       "0     0     0     1.0  \n",
       "1     0     0     1.0  \n",
       "2     0     0     1.0  \n",
       "3     0     0     1.0  \n",
       "4     0     0     1.0  "
      ]
     },
     "execution_count": 52,
     "metadata": {},
     "output_type": "execute_result"
    }
   ],
   "source": [
    "pd.set_option(\"display.max_columns\",101)\n",
    "df.head()"
   ]
  },
  {
   "cell_type": "code",
   "execution_count": 53,
   "metadata": {
    "_cell_guid": "23616744-f335-007e-a6b1-ee0bc0f3edcd",
    "_uuid": "7b783fa302429bfeed4cffd964c872a41bad5934"
   },
   "outputs": [],
   "source": [
    "# Crear marcos de datos de solo Fraude y transacciones normales.\n",
    "Fraud = df[df.Fraud == 1]\n",
    "Normal = df[df.Normal == 1]"
   ]
  },
  {
   "cell_type": "code",
   "execution_count": 54,
   "metadata": {
    "_cell_guid": "deb5dbbb-201d-e79f-13cc-dc9817d588e5",
    "_uuid": "2a6cddaf4919aed404927a41b205434dd582119f"
   },
   "outputs": [],
   "source": [
    "# Establecer X_train igual al 80% de las transacciones fraudulentas.\n",
    "X_train = Fraud.sample(frac=0.8)\n",
    "count_Frauds = len(X_train)\n",
    "\n",
    "# Agregar el 80% de las transacciones normales a X_train.\n",
    "X_train = pd.concat([X_train, Normal.sample(frac = 0.8)], axis = 0)\n",
    "\n",
    "# X_test contiene toda la transacción que no está en X_train.\n",
    "X_test = df.loc[~df.index.isin(X_train.index)]"
   ]
  },
  {
   "cell_type": "code",
   "execution_count": 55,
   "metadata": {
    "_cell_guid": "c0becaf6-dc5d-8cdf-8763-ae0c8a669e91",
    "_uuid": "3655cdc45cb37ee7f8c48b237cfe2744b98f15f2"
   },
   "outputs": [],
   "source": [
    "# Deshaga los marcos de datos para que la capacitación se realice en un orden aleatorio.\n",
    "X_train = shuffle(X_train)\n",
    "X_test = shuffle(X_test)"
   ]
  },
  {
   "cell_type": "code",
   "execution_count": 56,
   "metadata": {
    "_cell_guid": "80e7e303-ce05-5f3d-a0d8-ac2960ec0fbb",
    "_uuid": "c8df197f6c9658c1b7657ea93d55e0da01cc0c3c"
   },
   "outputs": [
    {
     "name": "stdout",
     "output_type": "stream",
     "text": [
      "(227846, 2)\n"
     ]
    }
   ],
   "source": [
    "#Añadir nuestras características de destino a y_train y y_test.\n",
    "y_train = X_train.Fraud\n",
    "y_train = pd.concat([y_train, X_train.Normal], axis=1)\n",
    "\n",
    "y_test = X_test.Fraud\n",
    "y_test = pd.concat([y_test, X_test.Normal], axis=1)\n",
    "print(y_train.shape)"
   ]
  },
  {
   "cell_type": "code",
   "execution_count": 57,
   "metadata": {
    "_cell_guid": "74f83c86-c091-0e72-7022-6a916167047f",
    "_uuid": "926f903627ee69aad802c19b8ae32785bda6135c"
   },
   "outputs": [],
   "source": [
    "#Drop características de destino de X_train y X_test.\n",
    "X_train = X_train.drop(['Fraud','Normal'], axis = 1)\n",
    "X_test = X_test.drop(['Fraud','Normal'], axis = 1)"
   ]
  },
  {
   "cell_type": "code",
   "execution_count": 58,
   "metadata": {
    "_cell_guid": "1f7660a6-6798-2bed-ccbf-a19f63b309c5",
    "_uuid": "e54f9002e0f83b35ec44124fed80ac05a4cd9d64"
   },
   "outputs": [
    {
     "name": "stdout",
     "output_type": "stream",
     "text": [
      "227846\n",
      "227846\n",
      "56961\n",
      "56961\n"
     ]
    }
   ],
   "source": [
    "#Verifique que todos los cuadros de datos de entrenamiento / prueba tengan la longitud correcta\n",
    "print(len(X_train))\n",
    "print(len(y_train))\n",
    "print(len(X_test))\n",
    "print(len(y_test))"
   ]
  },
  {
   "cell_type": "markdown",
   "metadata": {},
   "source": [
    "Debido al desequilibrio en los datos, la relación actuará como un sistema de ponderación igual para nuestro modelo.\n",
    "Al dividir el número de transacciones entre aquellas que son fraudulentas, la proporción será igual al valor que cuando se multiplique\n",
    "por el número de transacciones fraudulentas será igual al número de transacciones normales.\n",
    "En pocas palabras: # de fraude * ratio = # de normalidad\n"
   ]
  },
  {
   "cell_type": "code",
   "execution_count": 59,
   "metadata": {
    "_cell_guid": "84f4c273-2113-3fe2-25d4-61c47a2628d1",
    "_uuid": "6e50429569955b94388bb445b8e03d90b7e11dd2"
   },
   "outputs": [],
   "source": [
    "\n",
    "ratio = len(X_train)/count_Frauds \n",
    "\n",
    "y_train.Fraud *= ratio\n",
    "y_test.Fraud *= ratio"
   ]
  },
  {
   "cell_type": "code",
   "execution_count": 60,
   "metadata": {
    "_cell_guid": "a1d825a1-7769-f7ee-0935-f6b8aef77664",
    "_uuid": "a92aec890a422fae6787644aa73aaad079747ea9"
   },
   "outputs": [],
   "source": [
    "#Nombres de todas las funciones en X_train.\n",
    "features = X_train.columns.values\n",
    "\n",
    "#Transforme cada característica en características para que tenga una media de 0 y una desviación estándar de 1;\n",
    "# Esto ayuda a entrenar la red neuronal.\n",
    "for feature in features:\n",
    "    mean, std = df[feature].mean(), df[feature].std()\n",
    "    X_train.loc[:, feature] = (X_train[feature] - mean) / std\n",
    "    X_test.loc[:, feature] = (X_test[feature] - mean) / std"
   ]
  },
  {
   "cell_type": "markdown",
   "metadata": {
    "_cell_guid": "309dfd9b-b33a-60b3-c859-72eacc2bd323",
    "_uuid": "b4ab465bb3a4dfad89c6456b2278526c5419b918"
   },
   "source": [
    "## Entrene a la red neuronal"
   ]
  },
  {
   "cell_type": "code",
   "execution_count": 61,
   "metadata": {
    "_cell_guid": "b668be28-6280-3453-3d03-09daf5077040",
    "_uuid": "ec644321e75d15e0c09d1fe9195700ecb723221c"
   },
   "outputs": [
    {
     "name": "stdout",
     "output_type": "stream",
     "text": [
      "(227846, 37)\n",
      "(227846, 2)\n"
     ]
    }
   ],
   "source": [
    "# Dividir los datos de prueba en conjuntos de validación y prueba\n",
    "split = int(len(y_test)/2)\n",
    "\n",
    "inputX = X_train.as_matrix()\n",
    "inputY = y_train.as_matrix()\n",
    "inputX_valid = X_test.as_matrix()[:split]\n",
    "inputY_valid = y_test.as_matrix()[:split]\n",
    "inputX_test = X_test.as_matrix()[split:]\n",
    "inputY_test = y_test.as_matrix()[split:]\n",
    "\n",
    "print(inputX.shape)\n",
    "print(inputY.shape)\n"
   ]
  },
  {
   "cell_type": "code",
   "execution_count": 62,
   "metadata": {
    "_cell_guid": "fb75cc68-777c-4db9-6c92-80217d639d85",
    "_uuid": "9b70a2b8cb7cc09911891571dc149892d6f4630d"
   },
   "outputs": [],
   "source": [
    "# Número de nodos de entrada.\n",
    "input_nodes = 37\n",
    "\n",
    "# Multiplier mantiene una proporción fija de nodos entre cada capa.\n",
    "mulitplier = 1.5 \n",
    "\n",
    "# Número de nodos en cada capa oculta\n",
    "hidden_nodes1 = 70\n",
    "hidden_nodes2 = round(hidden_nodes1 * mulitplier)\n",
    "hidden_nodes3 = round(hidden_nodes2 * mulitplier)\n",
    "\n",
    "# Porcentaje de nodos que mantener durante la deserción.\n",
    "pkeep = tf.placeholder(tf.float32)"
   ]
  },
  {
   "cell_type": "code",
   "execution_count": 63,
   "metadata": {
    "_cell_guid": "c7737bfc-b52a-d76c-b70a-2cfacfab7f1d",
    "_uuid": "9ae6ee2c5d9ed52886b8ec86ac6a93926cb57d08"
   },
   "outputs": [],
   "source": [
    "# entrada\n",
    "x = tf.placeholder(tf.float32, [None, input_nodes])\n",
    "\n",
    "# layer 1\n",
    "W1 = tf.Variable(tf.truncated_normal([input_nodes, hidden_nodes1], stddev = 0.15))\n",
    "b1 = tf.Variable(tf.zeros([hidden_nodes1]))\n",
    "y1 = tf.nn.sigmoid(tf.matmul(x, W1) + b1)\n",
    "\n",
    "# layer 2\n",
    "W2 = tf.Variable(tf.truncated_normal([hidden_nodes1, hidden_nodes2], stddev = 0.15))\n",
    "b2 = tf.Variable(tf.zeros([hidden_nodes2]))\n",
    "y2 = tf.nn.sigmoid(tf.matmul(y1, W2) + b2)\n",
    "\n",
    "# layer 3\n",
    "W3 = tf.Variable(tf.truncated_normal([hidden_nodes2, hidden_nodes3], stddev = 0.15)) \n",
    "b3 = tf.Variable(tf.zeros([hidden_nodes3]))\n",
    "y3 = tf.nn.sigmoid(tf.matmul(y2, W3) + b3)\n",
    "y3 = tf.nn.dropout(y3, pkeep)\n",
    "\n",
    "# layer 4\n",
    "W4 = tf.Variable(tf.truncated_normal([hidden_nodes3, 2], stddev = 0.15)) \n",
    "b4 = tf.Variable(tf.zeros([2]))\n",
    "y4 = tf.nn.softmax(tf.matmul(y3, W4) + b4)\n",
    "\n",
    "# salida\n",
    "y = y4\n",
    "y_ = tf.placeholder(tf.float32, [None, 2])"
   ]
  },
  {
   "cell_type": "code",
   "execution_count": 67,
   "metadata": {
    "_cell_guid": "4d499bd8-9720-05ca-c82e-3d360d4c5bd6",
    "_uuid": "7179cd56bf8380209cced297d7789ddde546b918"
   },
   "outputs": [],
   "source": [
    "    # Parametros\n",
    "    training_epochs = 2000 # debe ser 2000, se agotó el tiempo de espera al cargar\n",
    "    training_dropout = 0.9\n",
    "    display_step = 1 # 10 \n",
    "    n_samples = y_train.shape[0]\n",
    "    batch_size = 2048\n",
    "    learning_rate = 0.01"
   ]
  },
  {
   "cell_type": "code",
   "execution_count": 65,
   "metadata": {
    "_cell_guid": "f6b8184c-ecfd-3be4-8555-c611ad8a420b",
    "_uuid": "2e51ed3e3a373b082319b62680c76517ff0eaca1"
   },
   "outputs": [],
   "source": [
    "# Función de costo: entropía cruzada\n",
    "cost = -tf.reduce_sum(y_ * tf.log(y))\n",
    "\n",
    "# Optimizaremos nuestro modelo a través de AdamOptimizer\n",
    "optimizer = tf.train.AdamOptimizer(learning_rate).minimize(cost)\n",
    "\n",
    "# Corregir la predicción si el valor más probable (Fraude o Normal) de softmax es igual al valor objetivo.\n",
    "correct_prediction = tf.equal(tf.argmax(y,1), tf.argmax(y_,1))\n",
    "accuracy = tf.reduce_mean(tf.cast(correct_prediction, tf.float32))"
   ]
  },
  {
   "cell_type": "code",
   "execution_count": null,
   "metadata": {
    "_cell_guid": "22020320-c7a4-07fc-1dde-cca2447bb30a",
    "_uuid": "89f36cb2f161a574d2dea02eae79d9477f13d259"
   },
   "outputs": [],
   "source": []
  },
  {
   "cell_type": "code",
   "execution_count": 68,
   "metadata": {
    "_cell_guid": "d92ba058-cde6-efc6-0d2d-c59438429bf7",
    "_uuid": "70fbc62c77eb20734bf1d78a803f3d497756dd99"
   },
   "outputs": [
    {
     "name": "stdout",
     "output_type": "stream",
     "text": [
      "0\n",
      "F1-Score = 0.9982740401549842\n",
      "Epoch: 129 Acc = 0.99681 Cost = 2951.67041 Valid_Acc = 0.99680 Valid_Cost =  47367.50391\n",
      "\n",
      "Optimization Finished!\n",
      "\n",
      "1\n",
      "F1-Score = 0.9989440337909188\n",
      "Epoch: 117 Acc = 0.99852 Cost = 1550.71265 Valid_Acc = 0.99807 Valid_Cost =  30892.61133\n",
      "\n",
      "Optimization Finished!\n",
      "\n",
      "2\n",
      "F1-Score = 0.9987854464804352\n",
      "Epoch: 130 Acc = 0.99818 Cost = 1822.30762 Valid_Acc = 0.99758 Valid_Cost =  45351.89062\n",
      "\n",
      "Optimization Finished!\n",
      "\n",
      "3\n",
      "F1-Score = 0.9981153012875839\n",
      "Epoch: 132 Acc = 0.99642 Cost = 3234.55957 Valid_Acc = 0.99614 Valid_Cost =  36205.46875\n",
      "\n",
      "Optimization Finished!\n",
      "\n",
      "4\n",
      "F1-Score = 0.9988030697739912\n",
      "Epoch: 156 Acc = 0.99832 Cost = 1757.54944 Valid_Acc = 0.99800 Valid_Cost =  51185.63281\n",
      "\n",
      "Optimization Finished!\n",
      "\n"
     ]
    }
   ],
   "source": [
    "for i in range(5): \n",
    "\n",
    "    print(i)\n",
    "    accuracy_summary = []# Registrar valores de precisión para la trama\n",
    "    cost_summary = [] # Registrar los valores de costo para la trama\n",
    "    valid_accuracy_summary = [] \n",
    "    valid_cost_summary = [] \n",
    "    stop_early = 0 # Para realizar un seguimiento del número de épocas antes de detenerse temprano\n",
    "\n",
    "    # Guarda los mejores pesos para que puedan usarse para hacer las predicciones finales\n",
    "    #checkpoint = \"location_on_your_computer / best_model.ckpt\"\n",
    "    saver = tf.train.Saver(max_to_keep=1)\n",
    "\n",
    "    # Inicializar variables y sesión de tensorflow\n",
    "    with tf.Session() as sess:\n",
    "        sess.run(tf.global_variables_initializer())\n",
    "\n",
    "        for epoch in range(training_epochs): \n",
    "            for batch in range(int(n_samples/batch_size)):\n",
    "                batch_x = inputX[batch*batch_size : (1+batch)*batch_size]\n",
    "                batch_y = inputY[batch*batch_size : (1+batch)*batch_size]\n",
    "\n",
    "                sess.run([optimizer], feed_dict={x: batch_x, \n",
    "                                                 y_: batch_y,\n",
    "                                                 pkeep: training_dropout})\n",
    "\n",
    "            # Mostrar registros después de cada 10 épocas\n",
    "            if (epoch) % display_step == 0:\n",
    "                train_accuracy, newCost = sess.run([accuracy, cost], feed_dict={x: inputX, \n",
    "                                                                                y_: inputY,\n",
    "                                                                                pkeep: training_dropout})\n",
    "\n",
    "                valid_accuracy, valid_newCost = sess.run([accuracy, cost], feed_dict={x: inputX_valid, \n",
    "                                                                                      y_: inputY_valid,\n",
    "                                                                                      pkeep: 1})\n",
    "\n",
    "                \n",
    "                # Guarde los pesos si se cumplen estas condiciones.\n",
    "                #if epoch > 0 and valid_accuracy > max(valid_accuracy_summary) and valid_accuracy > 0.999:\n",
    "                #    saver.save(sess, checkpoint)\n",
    "\n",
    "                # Registra los resultados del modelo\n",
    "                accuracy_summary.append(train_accuracy)\n",
    "                cost_summary.append(newCost)\n",
    "                valid_accuracy_summary.append(valid_accuracy)\n",
    "                valid_cost_summary.append(valid_newCost)\n",
    "\n",
    "                # Si el modelo no mejora después de 15 registros, detenga el entrenamiento.\n",
    "                if valid_accuracy < max(valid_accuracy_summary) and epoch > 100:\n",
    "                    stop_early += 1\n",
    "                    if stop_early == 15:\n",
    "                        break\n",
    "                else:\n",
    "                    stop_early = 0\n",
    "                    \n",
    "        predicted = tf.argmax(y, 1)\n",
    "        testing_predictions, testing_accuracy = sess.run([predicted, accuracy], \n",
    "        feed_dict={x: inputX_test, y_:inputY_test, pkeep: 1})\n",
    "    \n",
    "        print(\"F1-Score =\", f1_score(inputY_test[:,1], testing_predictions))\n",
    "    \n",
    "                    \n",
    "                    \n",
    "                    \n",
    "        print (\"Epoch:\", epoch,\n",
    "                       \"Acc =\", \"{:.5f}\".format(train_accuracy), \n",
    "                       \"Cost =\", \"{:.5f}\".format(newCost),\n",
    "                       \"Valid_Acc =\", \"{:.5f}\".format(valid_accuracy), \n",
    "                       \"Valid_Cost = \", \"{:.5f}\".format(valid_newCost))\n",
    "\n",
    "        print()\n",
    "        print(\"Optimization Finished!\")\n",
    "        print()   \n",
    "\n",
    "    #with tf.Session() as sess:\n",
    "        # Carga los mejores pesos y muestra sus resultados\n",
    "        #saver.restore(sess, checkpoint)\n",
    "        #training_accuracy = sess.run(accuracy, feed_dict={x: inputX, y_: inputY, pkeep: training_dropout})\n",
    "        #validation_accuracy = sess.run(accuracy, feed_dict={x: inputX_valid, y_: inputY_valid, pkeep: 1})\n",
    "\n",
    "        #print(\"Results using the best Valid_Acc:\")\n",
    "        #print()\n",
    "        #print(\"Training Accuracy =\", training_accuracy)\n",
    "        #print(\"Validation Accuracy =\", validation_accuracy)"
   ]
  },
  {
   "cell_type": "code",
   "execution_count": null,
   "metadata": {
    "_cell_guid": "e3cb895b-27d6-9765-60ae-46b4ff625394",
    "_uuid": "f398f30cd369653aedef685f67ca7aeb2cd7da39"
   },
   "outputs": [],
   "source": [
    "# Trazar la precisión y los resúmenes de costos\n",
    "f, (ax1, ax2) = plt.subplots(2, 1, sharex=True, figsize=(10,4))\n",
    "\n",
    "ax1.plot(accuracy_summary) # blue\n",
    "ax1.plot(valid_accuracy_summary) # green\n",
    "ax1.set_title('Accuracy')\n",
    "\n",
    "ax2.plot(cost_summary)\n",
    "ax2.plot(valid_cost_summary)\n",
    "ax2.set_title('Cost')\n",
    "\n",
    "plt.xlabel('Epochs (x10)')\n",
    "plt.show()"
   ]
  },
  {
   "cell_type": "code",
   "execution_count": null,
   "metadata": {
    "_cell_guid": "ab30eabb-51fb-8e97-281b-545bda37fad6",
    "_uuid": "8a2889403f06e55f4fc6fa83412f766914fdf412"
   },
   "outputs": [],
   "source": [
    "# Encontrar los valores predichos, luego usarlos para construir una matriz de confusión\n",
    "#predicted = tf.argmax(y, 1)\n",
    "#with tf.Session() as sess:  \n",
    "#    # Carga los mejores pesos\n",
    "#    saver.restore(sess, checkpoint)\n",
    "#    testing_predictions, testing_accuracy = sess.run([predicted, accuracy], \n",
    "#                                                     feed_dict={x: inputX_test, y_:inputY_test, pkeep: 1})\n",
    "#    \n",
    "#    print(\"F1-Score =\", f1_score(inputY_test[:,1], testing_predictions))\n",
    "#    print(\"Testing Accuracy =\", testing_accuracy)\n",
    "#    print()\n",
    "#    c = confusion_matrix(inputY_test[:,1], testing_predictions)\n",
    "#    show_confusion_matrix(c, ['Fraud', 'Normal'])"
   ]
  },
  {
   "cell_type": "markdown",
   "metadata": {
    "_cell_guid": "b180317a-a34b-6487-8edc-6d83f658205c",
    "_uuid": "da4aab646757691d518c576fc7c9fb3008830483"
   },
   "source": [
    "Aunque la red neuronal puede detectar la mayoría de las transacciones fraudulentas (82,93%), todavía hay algunas que se escaparon. Alrededor del 0,10% de las transacciones normales se clasificaron como fraudulentas, lo que lamentablemente puede sumar muy rápidamente dado el gran número de transacciones de tarjetas de crédito que ocurren cada minuto / hora / día. No obstante, estos modelos funcionan razonablemente bien y espero que si tuviéramos más datos, y si las características no se hubieran pretransformado, pudiéramos haber creado nuevas características y construido una red neuronal más útil."
   ]
  },
  {
   "cell_type": "code",
   "execution_count": null,
   "metadata": {},
   "outputs": [],
   "source": []
  },
  {
   "cell_type": "code",
   "execution_count": null,
   "metadata": {},
   "outputs": [],
   "source": []
  },
  {
   "cell_type": "code",
   "execution_count": null,
   "metadata": {},
   "outputs": [],
   "source": []
  },
  {
   "cell_type": "code",
   "execution_count": null,
   "metadata": {},
   "outputs": [],
   "source": []
  }
 ],
 "metadata": {
  "_change_revision": 0,
  "_is_fork": false,
  "kernelspec": {
   "display_name": "Python 2",
   "language": "python",
   "name": "python2"
  },
  "language_info": {
   "codemirror_mode": {
    "name": "ipython",
    "version": 2
   },
   "file_extension": ".py",
   "mimetype": "text/x-python",
   "name": "python",
   "nbconvert_exporter": "python",
   "pygments_lexer": "ipython2",
   "version": "2.7.16"
  }
 },
 "nbformat": 4,
 "nbformat_minor": 1
}
