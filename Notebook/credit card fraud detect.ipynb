{
 "cells": [
  {
   "cell_type": "code",
   "execution_count": 1,
   "metadata": {
    "_cell_guid": "11290628-b996-418e-a3d6-9d36447d5ade",
    "_kg_hide-input": false,
    "_uuid": "047250539ea0427dbc3f7dd46eb7e02e79e58bf4"
   },
   "outputs": [],
   "source": [
    "# Loading libraries\n",
    "import itertools\n",
    "import pandas as pd\n",
    "import numpy as np\n",
    "import matplotlib.pyplot as plt\n",
    "import seaborn as sns\n",
    "from sklearn.metrics import accuracy_score,f1_score\n",
    "from sklearn.impute import SimpleImputer\n",
    "from sklearn.model_selection import cross_val_score\n"
   ]
  },
  {
   "cell_type": "code",
   "execution_count": 2,
   "metadata": {
    "_cell_guid": "be228bff-6554-4f52-94df-79894f2eb721",
    "_uuid": "764aeb6dd7615b00d5f050d7d6be68bd19199db1"
   },
   "outputs": [],
   "source": [
    "# Loading dataset\n",
    "\n",
    "dataset = pd.read_csv('../input/creditcard.csv')\n",
    "dataset = dataset.drop(['V28','V27','V26','V25','V24','V23','V22','V20','V15','V13','V8'], axis =1)\n",
    "dataset['V1_'] = dataset.V1.map(lambda x: 1 if x < -3 else 0)\n",
    "dataset['V2_'] = dataset.V2.map(lambda x: 1 if x > 2.5 else 0)\n",
    "dataset['V3_'] = dataset.V3.map(lambda x: 1 if x < -4 else 0)\n",
    "dataset['V4_'] = dataset.V4.map(lambda x: 1 if x > 2.5 else 0)\n",
    "dataset['V5_'] = dataset.V5.map(lambda x: 1 if x < -4.5 else 0)\n",
    "dataset['V6_'] = dataset.V6.map(lambda x: 1 if x < -2.5 else 0)\n",
    "dataset['V7_'] = dataset.V7.map(lambda x: 1 if x < -3 else 0)\n",
    "dataset['V9_'] = dataset.V9.map(lambda x: 1 if x < -2 else 0)\n",
    "dataset['V10_'] = dataset.V10.map(lambda x: 1 if x < -2.5 else 0)\n",
    "dataset['V11_'] = dataset.V11.map(lambda x: 1 if x > 2 else 0)\n",
    "dataset['V12_'] = dataset.V12.map(lambda x: 1 if x < -2 else 0)\n",
    "dataset['V14_'] = dataset.V14.map(lambda x: 1 if x < -2.5 else 0)\n",
    "dataset['V16_'] = dataset.V16.map(lambda x: 1 if x < -2 else 0)\n",
    "dataset['V17_'] = dataset.V17.map(lambda x: 1 if x < -2 else 0)\n",
    "dataset['V18_'] = dataset.V18.map(lambda x: 1 if x < -2 else 0)\n",
    "dataset['V19_'] = dataset.V19.map(lambda x: 1 if x > 1.5 else 0)\n",
    "dataset['V21_'] = dataset.V21.map(lambda x: 1 if x > 0.6 else 0)\n",
    "\n",
    "#Crea una nueva función para transacciones normales (no fraudulentas).\n",
    "dataset.loc[dataset.Class == 0, 'Clase'] = 0\n",
    "dataset.loc[dataset.Class == 1, 'Clase'] = 1\n",
    "dataset = dataset.drop(['Class'], axis =1)"
   ]
  },
  {
   "cell_type": "code",
   "execution_count": 3,
   "metadata": {
    "_cell_guid": "976a06ca-b1d3-44b6-bc3e-8afd7160b63d",
    "_uuid": "7affa3554319cade77750157fd168813c53db17a"
   },
   "outputs": [
    {
     "name": "stdout",
     "output_type": "stream",
     "text": [
      "37\n"
     ]
    }
   ],
   "source": [
    "# Parameters and results\n",
    "# Disminuya todas las características que tienen distribuciones muy similares entre los dos tipos de transacciones.\n",
    "print(dataset.shape[1])\n",
    "n_len=dataset.shape[1]\n",
    "pd.set_option(\"display.max_columns\",101)\n",
    "dataset.head()\n",
    "\n",
    "x = dataset.iloc[: , 1:n_len-1].values\n",
    "y = dataset.iloc[:, n_len-1].values"
   ]
  },
  {
   "cell_type": "code",
   "execution_count": null,
   "metadata": {},
   "outputs": [],
   "source": []
  },
  {
   "cell_type": "code",
   "execution_count": 4,
   "metadata": {
    "_cell_guid": "976a06ca-b1d3-44b6-bc3e-8afd7160b63d",
    "_uuid": "7affa3554319cade77750157fd168813c53db17a"
   },
   "outputs": [],
   "source": [
    "# Handling Missing Values\n",
    "imputer = SimpleImputer(missing_values=np.nan, strategy=\"mean\")\n",
    "imputer = imputer.fit(x[:, 1::n_len-1])\n",
    "x[:, 1::n_len-1] = imputer.fit_transform(x[:, 1::n_len-1])\n",
    "\n",
    "# Feature Scaling\n",
    "\n",
    "from sklearn.preprocessing import StandardScaler\n",
    "sc_x = StandardScaler()\n",
    "x = sc_x.fit_transform(x)"
   ]
  },
  {
   "cell_type": "markdown",
   "metadata": {},
   "source": [
    "#FOLDS"
   ]
  },
  {
   "cell_type": "code",
   "execution_count": 5,
   "metadata": {},
   "outputs": [],
   "source": [
    "from sklearn.model_selection import KFold, cross_validate\n",
    "scoring = ['accuracy', 'f1']\n",
    "#kfold = KFold(n_splits=3)\n",
    "kfold = KFold(n_splits=6, random_state=0)"
   ]
  },
  {
   "cell_type": "code",
   "execution_count": null,
   "metadata": {},
   "outputs": [],
   "source": []
  },
  {
   "cell_type": "markdown",
   "metadata": {},
   "source": [
    "#  Random Forest Classification Model"
   ]
  },
  {
   "cell_type": "code",
   "execution_count": 6,
   "metadata": {},
   "outputs": [],
   "source": [
    "from sklearn.ensemble import RandomForestClassifier\n",
    "rf_classifier=RandomForestClassifier(n_estimators =75, criterion ='entropy')\n",
    "results = cross_validate(rf_classifier,x,y,cv=kfold, scoring=scoring,return_train_score=False)\n"
   ]
  },
  {
   "cell_type": "code",
   "execution_count": 7,
   "metadata": {},
   "outputs": [
    {
     "name": "stdout",
     "output_type": "stream",
     "text": [
      "{'score_time': array([ 0.56999993,  0.53799987,  0.49900007,  0.51800013,  0.52699995,\n",
      "        0.52600002]), 'fit_time': array([ 77.43199992,  79.69099998,  71.57700014,  72.81699991,\n",
      "        74.71799994,  73.65299988]), 'test_accuracy': array([ 0.99886239,  0.9995576 ,  0.99953653,  0.99934693,  0.9996208 ,\n",
      "        0.99955759]), 'test_f1': array([ 0.82802548,  0.832     ,  0.75555556,  0.83937824,  0.83018868,\n",
      "        0.7961165 ])}\n"
     ]
    }
   ],
   "source": [
    "print(results)"
   ]
  },
  {
   "cell_type": "markdown",
   "metadata": {},
   "source": [
    "#  Naive Classification Model"
   ]
  },
  {
   "cell_type": "code",
   "execution_count": 15,
   "metadata": {},
   "outputs": [],
   "source": [
    "from sklearn.naive_bayes import GaussianNB\n",
    "gnb_classifier=GaussianNB()\n",
    "results = cross_validate(gnb_classifier,x,y,cv=kfold, scoring=scoring,return_train_score=False)\n"
   ]
  },
  {
   "cell_type": "code",
   "execution_count": 16,
   "metadata": {},
   "outputs": [
    {
     "name": "stdout",
     "output_type": "stream",
     "text": [
      "{'score_time': array([ 0.10700011,  0.11000013,  0.10899997,  0.10500002,  0.10800004,\n",
      "        0.10100007]), 'fit_time': array([ 0.36500001,  0.34399986,  0.35100007,  0.33500004,  0.33999991,\n",
      "        0.34399986]), 'test_accuracy': array([ 0.92327463,  0.96991658,  0.97229713,  0.96778883,  0.96528187,\n",
      "        0.97307603]), 'test_f1': array([ 0.06949412,  0.07152146,  0.05869721,  0.10845481,  0.05828571,\n",
      "        0.07122093])}\n"
     ]
    }
   ],
   "source": [
    "print(results)"
   ]
  },
  {
   "cell_type": "code",
   "execution_count": 10,
   "metadata": {},
   "outputs": [
    {
     "name": "stdout",
     "output_type": "stream",
     "text": [
      "{'score_time': array([ 0.09899998,  0.09500003,  0.09599996,  0.09599996,  0.0999999 ,\n",
      "        0.10400009]), 'fit_time': array([ 0.33099985,  0.30900002,  0.29999995,  0.30400014,  0.31599998,\n",
      "        0.30099988]), 'test_accuracy': array([ 0.92327463,  0.96991658,  0.97229713,  0.96778883,  0.96528187,\n",
      "        0.97307603]), 'test_f1': array([ 0.06949412,  0.07152146,  0.05869721,  0.10845481,  0.05828571,\n",
      "        0.07122093])}\n"
     ]
    }
   ],
   "source": [
    "print(results)"
   ]
  },
  {
   "cell_type": "markdown",
   "metadata": {},
   "source": [
    "#  XgBoost Classification Model"
   ]
  },
  {
   "cell_type": "code",
   "execution_count": 8,
   "metadata": {},
   "outputs": [],
   "source": [
    "from xgboost import XGBClassifier\n",
    "xgb_classifier = XGBClassifier(learning_rate =0.2)\n",
    "results = cross_validate(xgb_classifier,x,y,cv=kfold, scoring=scoring,return_train_score=False)\n"
   ]
  },
  {
   "cell_type": "code",
   "execution_count": 9,
   "metadata": {},
   "outputs": [
    {
     "name": "stdout",
     "output_type": "stream",
     "text": [
      "{'score_time': array([ 0.13800001,  0.13499999,  0.17199993,  0.13899994,  0.15199995,\n",
      "        0.14400005]), 'fit_time': array([ 11.68500018,  11.39600015,  11.727     ,  12.27399993,\n",
      "        11.48800015,  11.46799994]), 'test_accuracy': array([ 0.99879919,  0.9994944 ,  0.99957866,  0.99934693,  0.99959973,\n",
      "        0.99957865]), 'test_f1': array([ 0.81789137,  0.8125    ,  0.77272727,  0.84102564,  0.82882883,\n",
      "        0.80769231])}\n"
     ]
    }
   ],
   "source": [
    "print(results)"
   ]
  },
  {
   "cell_type": "code",
   "execution_count": 12,
   "metadata": {},
   "outputs": [
    {
     "name": "stdout",
     "output_type": "stream",
     "text": [
      "{'score_time': array([ 0.15200019,  0.14400005,  0.13100004,  0.1559999 ,  0.16300011,\n",
      "        0.12800002]), 'fit_time': array([ 11.06799984,  11.18400002,  11.14699984,  11.23300004,\n",
      "        12.5309999 ,  11.70300007]), 'test_accuracy': array([ 0.99886239,  0.99953653,  0.9995576 ,  0.99928373,  0.99953653,\n",
      "        0.99957865]), 'test_f1': array([ 0.82802548,  0.82539683,  0.76404494,  0.82474227,  0.8       ,\n",
      "        0.80769231])}\n"
     ]
    }
   ],
   "source": [
    "print(results)"
   ]
  },
  {
   "cell_type": "markdown",
   "metadata": {},
   "source": [
    "#  SVM Classification Model"
   ]
  },
  {
   "cell_type": "code",
   "execution_count": 13,
   "metadata": {},
   "outputs": [
    {
     "name": "stderr",
     "output_type": "stream",
     "text": [
      "C:\\ProgramData\\Anaconda3\\lib\\site-packages\\sklearn\\svm\\base.py:196: FutureWarning: The default value of gamma will change from 'auto' to 'scale' in version 0.22 to account better for unscaled features. Set gamma explicitly to 'auto' or 'scale' to avoid this warning.\n",
      "  \"avoid this warning.\", FutureWarning)\n"
     ]
    }
   ],
   "source": [
    "from sklearn import svm\n",
    "svm_classifier=svm.SVC()\n",
    "results = cross_validate(svm_classifier,x,y,cv=kfold, scoring=scoring,return_train_score=False)\n"
   ]
  },
  {
   "cell_type": "code",
   "execution_count": 14,
   "metadata": {},
   "outputs": [
    {
     "name": "stdout",
     "output_type": "stream",
     "text": [
      "{'score_time': array([ 14.26499987,  14.72799993,  15.0150001 ,  14.11699986,\n",
      "        14.30999994,  14.79099989]), 'fit_time': array([ 1425.73900008,   258.91899991,  1282.85800004,  1145.43900013,\n",
      "        1096.65199995,   254.39599991]), 'test_accuracy': array([ 0.99751411,  0.99894666,  0.99915733,  0.99825145,  0.99890453,\n",
      "        0.99894664]), 'test_f1': array([ 0.34444444,  0.45652174,  0.39393939,  0.32520325,  0.27777778,\n",
      "        0.30555556])}\n"
     ]
    }
   ],
   "source": [
    "print(results)"
   ]
  },
  {
   "cell_type": "markdown",
   "metadata": {},
   "source": [
    "# K-fold cross-validated paired t test"
   ]
  },
  {
   "cell_type": "code",
   "execution_count": 12,
   "metadata": {},
   "outputs": [
    {
     "name": "stdout",
     "output_type": "stream",
     "text": [
      "t statistic: -0.126\n",
      "p value: 0.903\n"
     ]
    }
   ],
   "source": [
    "from mlxtend.evaluate import paired_ttest_kfold_cv\n",
    "t, p = paired_ttest_kfold_cv(estimator1=rf_classifier,\n",
    "                              estimator2=xgb_classifier,\n",
    "                              X=x, y=y,\n",
    "                              random_seed=1)\n",
    "\n",
    "print('t statistic: %.3f' % t)\n",
    "print('p value: %.3f' % p)"
   ]
  },
  {
   "cell_type": "code",
   "execution_count": 17,
   "metadata": {},
   "outputs": [
    {
     "name": "stdout",
     "output_type": "stream",
     "text": [
      "t statistic: 4.992\n",
      "p value: 0.001\n"
     ]
    }
   ],
   "source": [
    "from mlxtend.evaluate import paired_ttest_kfold_cv\n",
    "t, p = paired_ttest_kfold_cv(estimator1=rf_classifier,\n",
    "                              estimator2=svm_classifier,\n",
    "                              X=x, y=y,\n",
    "                              random_seed=1)\n",
    "\n",
    "print('t statistic: %.3f' % t)\n",
    "print('p value: %.3f' % p)"
   ]
  },
  {
   "cell_type": "code",
   "execution_count": 18,
   "metadata": {},
   "outputs": [
    {
     "name": "stdout",
     "output_type": "stream",
     "text": [
      "t statistic: 7.482\n",
      "p value: 0.000\n"
     ]
    }
   ],
   "source": [
    "from mlxtend.evaluate import paired_ttest_kfold_cv\n",
    "t, p = paired_ttest_kfold_cv(estimator1=rf_classifier,\n",
    "                              estimator2=gnb_classifier,\n",
    "                              X=x, y=y,\n",
    "                              random_seed=1)\n",
    "\n",
    "print('t statistic: %.3f' % t)\n",
    "print('p value: %.3f' % p)"
   ]
  },
  {
   "cell_type": "code",
   "execution_count": 19,
   "metadata": {},
   "outputs": [
    {
     "name": "stdout",
     "output_type": "stream",
     "text": [
      "t statistic: 4.992\n",
      "p value: 0.001\n"
     ]
    }
   ],
   "source": [
    "from mlxtend.evaluate import paired_ttest_kfold_cv\n",
    "t, p = paired_ttest_kfold_cv(estimator1=rf_classifier,\n",
    "                              estimator2=svm_classifier,\n",
    "                              X=x, y=y,\n",
    "                              random_seed=1)\n",
    "\n",
    "print('t statistic: %.3f' % t)\n",
    "print('p value: %.3f' % p)"
   ]
  }
 ],
 "metadata": {
  "kernelspec": {
   "display_name": "Python 2",
   "language": "python",
   "name": "python2"
  },
  "language_info": {
   "codemirror_mode": {
    "name": "ipython",
    "version": 2
   },
   "file_extension": ".py",
   "mimetype": "text/x-python",
   "name": "python",
   "nbconvert_exporter": "python",
   "pygments_lexer": "ipython2",
   "version": "2.7.16"
  }
 },
 "nbformat": 4,
 "nbformat_minor": 1
}
