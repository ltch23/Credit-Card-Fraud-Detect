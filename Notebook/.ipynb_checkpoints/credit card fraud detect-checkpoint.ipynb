{
 "cells": [
  {
   "cell_type": "markdown",
   "metadata": {
    "_cell_guid": "3f5ccf23-61fe-4ddd-8d7e-d09df61032ea",
    "_uuid": "27e67d2e16cd9960504037d7da5796994832b814"
   },
   "source": [
    "Here in this module I'm working on two classification models : \n",
    "*    Decision Tree Classifier\n",
    "*    Ensemble Learning via Random Forest Classifier\n",
    "   \n",
    "to predict Anonymized credit card transactions as fraudulent or genuine. \n",
    "\n",
    "In order to do so I have done my data Processing : \n",
    "*    Handled Missing values : Using mean\n",
    "*    Standarised the data : Using Standardisation\n",
    "        \n",
    "Then I applied my two models, which works really well - \n",
    "*   Decision Tree Accuracy    :  99.9227549788\n",
    "*   Random Forest Accuracy    :  99.9550574422   -  A better approach to follow"
   ]
  },
  {
   "cell_type": "code",
   "execution_count": 112,
   "metadata": {
    "_cell_guid": "11290628-b996-418e-a3d6-9d36447d5ade",
    "_kg_hide-input": false,
    "_uuid": "047250539ea0427dbc3f7dd46eb7e02e79e58bf4"
   },
   "outputs": [],
   "source": [
    "# Loading libraries\n",
    "import itertools\n",
    "import pandas as pd\n",
    "import numpy as np\n",
    "import matplotlib.pyplot as plt\n",
    "import seaborn as sns\n",
    "from sklearn.metrics import accuracy_score,f1_score\n",
    "from sklearn.impute import SimpleImputer\n",
    "from sklearn.model_selection import cross_val_score\n"
   ]
  },
  {
   "cell_type": "code",
   "execution_count": 58,
   "metadata": {
    "_cell_guid": "be228bff-6554-4f52-94df-79894f2eb721",
    "_uuid": "764aeb6dd7615b00d5f050d7d6be68bd19199db1"
   },
   "outputs": [],
   "source": [
    "# Loading dataset\n",
    "\n",
    "dataset = pd.read_csv('../input/creditcard.csv')"
   ]
  },
  {
   "cell_type": "code",
   "execution_count": 109,
   "metadata": {
    "_cell_guid": "976a06ca-b1d3-44b6-bc3e-8afd7160b63d",
    "_uuid": "7affa3554319cade77750157fd168813c53db17a"
   },
   "outputs": [],
   "source": [
    "# Parameters and results\n",
    "\n",
    "x = dataset.iloc[: , 1:30].values\n",
    "y = dataset.iloc[:, 30].values\n",
    "# Handling Missing Values\n",
    "\n",
    "imputer = SimpleImputer(missing_values=np.nan, strategy=\"mean\")\n",
    "imputer = imputer.fit(x[:, 1:30])\n",
    "x[:, 1:30] = imputer.fit_transform(x[:, 1:30])"
   ]
  },
  {
   "cell_type": "code",
   "execution_count": 110,
   "metadata": {
    "_cell_guid": "29512e28-3382-407b-b9e2-499156512f3f",
    "_uuid": "53bb752cf935b59ef37fb7f2fe15a879f658e85c"
   },
   "outputs": [],
   "source": [
    "# Splitting the data-set\n",
    "from sklearn.model_selection import train_test_split\n",
    "xtrain, xtest, ytrain, ytest = train_test_split(x, y, test_size=0.25, random_state = 0)"
   ]
  },
  {
   "cell_type": "code",
   "execution_count": 62,
   "metadata": {
    "_cell_guid": "5169aa9b-4fc7-4133-8bd0-26dabf815c25",
    "_uuid": "992db22c2cf13ff4a59479882dbe664d32f9f556"
   },
   "outputs": [],
   "source": [
    "# Feature Scaling\n",
    "from sklearn.preprocessing import StandardScaler\n",
    "sc_x = StandardScaler()\n",
    "xtrain = sc_x.fit_transform(xtrain)\n",
    "xtest = sc_x.transform(xtest)"
   ]
  },
  {
   "cell_type": "markdown",
   "metadata": {},
   "source": [
    "# Ensemble Learning : Random Forest Classification Model"
   ]
  },
  {
   "cell_type": "code",
   "execution_count": 63,
   "metadata": {
    "_cell_guid": "32505aca-64d7-4927-aa5a-95b074cca8b4",
    "_uuid": "91662af6b6427c9019961dbffd39ac575e7b54fd"
   },
   "outputs": [
    {
     "data": {
      "text/plain": [
       "RandomForestClassifier(bootstrap=True, class_weight=None, criterion='entropy',\n",
       "            max_depth=None, max_features='auto', max_leaf_nodes=None,\n",
       "            min_impurity_decrease=0.0, min_impurity_split=None,\n",
       "            min_samples_leaf=1, min_samples_split=2,\n",
       "            min_weight_fraction_leaf=0.0, n_estimators=100, n_jobs=None,\n",
       "            oob_score=False, random_state=0, verbose=0, warm_start=False)"
      ]
     },
     "execution_count": 63,
     "metadata": {},
     "output_type": "execute_result"
    }
   ],
   "source": [
    "# Fitting Random Forest Model to the dataset\n",
    "\n",
    "from sklearn.ensemble import RandomForestClassifier\n",
    "rf_classifier = RandomForestClassifier(n_estimators=100, criterion = 'entropy', random_state = 0 )\n",
    "rf_classifier.fit(xtrain, ytrain)"
   ]
  },
  {
   "cell_type": "code",
   "execution_count": 64,
   "metadata": {
    "_cell_guid": "3d326ae5-7e8e-4208-99be-5eccd54db443",
    "_uuid": "a91208a686165658553398a8f82fdd79ea92fb81"
   },
   "outputs": [],
   "source": [
    "# Predicting the Test set results\n",
    "y_pred_randomforest = rf_classifier.predict(xtest)"
   ]
  },
  {
   "cell_type": "code",
   "execution_count": 65,
   "metadata": {
    "_cell_guid": "d33ffd97-ee1c-436b-adba-09b65a7c5159",
    "_uuid": "a7817cab2ba7f2a7f2233735d78ed97b10d03371"
   },
   "outputs": [],
   "source": [
    "# Making the Confusion Matrix to validate the Random Forest Model\n",
    "\n",
    "from sklearn.metrics import confusion_matrix\n",
    "cm_rainforest = confusion_matrix(ytest, y_pred_randomforest)"
   ]
  },
  {
   "cell_type": "code",
   "execution_count": 73,
   "metadata": {},
   "outputs": [],
   "source": [
    "def plot_confusion_matrix(cm,cmap=plt.cm.Blues):\n",
    "    classes=['Fraude','Legal']\n",
    "    plt.imshow(cm, interpolation='nearest', cmap=cmap)\n",
    "    plt.title('Confusion matrix')\n",
    "    plt.colorbar()\n",
    "    tick_marks = np.arange(len(classes))\n",
    "    plt.xticks(tick_marks, classes)\n",
    "    plt.yticks(tick_marks, classes)\n",
    "\n",
    "    fmt ='d'\n",
    "    thresh = cm.max() / 2.\n",
    "    for i, j in itertools.product(range(cm.shape[0]), range(cm.shape[1])):\n",
    "        plt.text(j, i, format(cm[i, j], fmt),\n",
    "                 horizontalalignment=\"center\",\n",
    "                 color=\"white\" if cm[i, j] > thresh else \"black\")\n",
    "\n",
    "    plt.tight_layout()\n",
    "    plt.ylabel('Valores Reakes')\n",
    "    plt.xlabel('Valores Predecidos')"
   ]
  },
  {
   "cell_type": "code",
   "execution_count": 74,
   "metadata": {},
   "outputs": [
    {
     "name": "stdout",
     "output_type": "stream",
     "text": [
      "[[71076     6]\n",
      " [   26    94]]\n"
     ]
    },
    {
     "data": {
      "image/png": "[encoded data removed]",
      "text/plain": [
       "<Figure size 432x288 with 2 Axes>"
      ]
     },
     "metadata": {
      "needs_background": "light"
     },
     "output_type": "display_data"
    }
   ],
   "source": [
    "print(cm_rainforest)\n",
    "cm=cm_rainforest\n",
    "plot_confusion_matrix(cm)"
   ]
  },
  {
   "cell_type": "code",
   "execution_count": 101,
   "metadata": {},
   "outputs": [
    {
     "name": "stdout",
     "output_type": "stream",
     "text": [
      "('accuracy: ', 0.9995505744220669)\n",
      "('f1score', 0.8545454545454546)\n"
     ]
    }
   ],
   "source": [
    "accuracy = accuracy_score(ytest, y_pred_randomforest)\n",
    "f1score = f1_score(ytest, y_pred_randomforest)\n",
    "print(\"accuracy: \", accuracy)\n",
    "print(\"f1score\", f1score)"
   ]
  },
  {
   "cell_type": "code",
   "execution_count": 115,
   "metadata": {
    "_cell_guid": "459f913e-85e4-4302-9242-5f9dc46943e1",
    "_uuid": "41017dbd87e79db053b0b944317d78ac0e1c8f4a"
   },
   "outputs": [
    {
     "name": "stdout",
     "output_type": "stream",
     "text": [
      "[0.99935395 0.9992767 ]\n"
     ]
    }
   ],
   "source": [
    "scores = cross_val_score(rf_classifier,x, y, cv=2)\n",
    "print(scores)"
   ]
  },
  {
   "cell_type": "code",
   "execution_count": null,
   "metadata": {},
   "outputs": [],
   "source": []
  }
 ],
 "metadata": {
  "kernelspec": {
   "display_name": "Python 3",
   "language": "python",
   "name": "python3"
  },
  "language_info": {
   "codemirror_mode": {
    "name": "ipython",
    "version": 2
   },
   "file_extension": ".py",
   "mimetype": "text/x-python",
   "name": "python",
   "nbconvert_exporter": "python",
   "pygments_lexer": "ipython2",
   "version": "2.7.16"
  }
 },
 "nbformat": 4,
 "nbformat_minor": 1
}
