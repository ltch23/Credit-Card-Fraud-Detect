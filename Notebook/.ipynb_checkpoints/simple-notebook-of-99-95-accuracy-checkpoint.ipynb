{
 "cells": [
  {
   "cell_type": "markdown",
   "metadata": {
    "_cell_guid": "3f5ccf23-61fe-4ddd-8d7e-d09df61032ea",
    "_uuid": "27e67d2e16cd9960504037d7da5796994832b814"
   },
   "source": [
    "Here in this module I'm working on two classification models : \n",
    "*    Decision Tree Classifier\n",
    "*    Ensemble Learning via Random Forest Classifier\n",
    "   \n",
    "to predict Anonymized credit card transactions as fraudulent or genuine. \n",
    "\n",
    "In order to do so I have done my data Processing : \n",
    "*    Handled Missing values : Using mean\n",
    "*    Standarised the data : Using Standardisation\n",
    "        \n",
    "Then I applied my two models, which works really well - \n",
    "*   Decision Tree Accuracy    :  99.9227549788\n",
    "*   Random Forest Accuracy    :  99.9550574422   -  A better approach to follow"
   ]
  },
  {
   "cell_type": "code",
   "execution_count": null,
   "metadata": {
    "_cell_guid": "11290628-b996-418e-a3d6-9d36447d5ade",
    "_kg_hide-input": false,
    "_uuid": "047250539ea0427dbc3f7dd46eb7e02e79e58bf4",
    "collapsed": true
   },
   "outputs": [],
   "source": [
    "# Loading libraries\n",
    "\n",
    "import pandas as pd\n",
    "import numpy as np\n",
    "import matplotlib.pyplot as plt"
   ]
  },
  {
   "cell_type": "code",
   "execution_count": null,
   "metadata": {
    "_cell_guid": "be228bff-6554-4f52-94df-79894f2eb721",
    "_uuid": "764aeb6dd7615b00d5f050d7d6be68bd19199db1",
    "collapsed": true
   },
   "outputs": [],
   "source": [
    "# Loading dataset\n",
    "\n",
    "dataset = pd.read_csv('../input/creditcard.csv')"
   ]
  },
  {
   "cell_type": "code",
   "execution_count": null,
   "metadata": {
    "_cell_guid": "9e0506f2-74ae-4431-b916-ee48b2031669",
    "_uuid": "15e5b975c95fc170665e407dfbb72aaab134f7ee",
    "collapsed": true
   },
   "outputs": [],
   "source": [
    "dataset.head()"
   ]
  },
  {
   "cell_type": "code",
   "execution_count": null,
   "metadata": {
    "_cell_guid": "976a06ca-b1d3-44b6-bc3e-8afd7160b63d",
    "_uuid": "7affa3554319cade77750157fd168813c53db17a",
    "collapsed": true
   },
   "outputs": [],
   "source": [
    "# Parameters and results\n",
    "\n",
    "x = dataset.iloc[: , 1:30].values\n",
    "y = dataset.iloc[:, 30].values"
   ]
  },
  {
   "cell_type": "code",
   "execution_count": null,
   "metadata": {
    "_cell_guid": "f05003e5-cbdf-45a9-b15e-e4c64cf9e34d",
    "_uuid": "dc72f1c441f50c220f637de485a200ae277b47fb",
    "collapsed": true
   },
   "outputs": [],
   "source": [
    "print(\"Parameters : \\n \", x)"
   ]
  },
  {
   "cell_type": "code",
   "execution_count": null,
   "metadata": {
    "_cell_guid": "df9524f1-d5c1-4478-92c8-fff15bd28bcd",
    "_uuid": "c79a3da83774565470054b0dd1b65c372262a71f",
    "collapsed": true
   },
   "outputs": [],
   "source": [
    "print(\"Results : \\n \", y)"
   ]
  },
  {
   "cell_type": "code",
   "execution_count": null,
   "metadata": {
    "_cell_guid": "7c69b26c-682a-4ff6-bd7f-be79da2c5fdb",
    "_uuid": "1d3463b0bdd2f5ec81606a9b4e403aa8a9200485",
    "collapsed": true
   },
   "outputs": [],
   "source": [
    "# Handling Missing Values\n",
    "\n",
    "from sklearn.preprocessing import Imputer\n",
    "imputer = Imputer(missing_values=\"NaN\", strategy=\"mean\", axis=0)\n",
    "imputer = imputer.fit(x[:, 1:30])\n",
    "x[:, 1:30] = imputer.fit_transform(x[:, 1:30])"
   ]
  },
  {
   "cell_type": "code",
   "execution_count": null,
   "metadata": {
    "_cell_guid": "29512e28-3382-407b-b9e2-499156512f3f",
    "_uuid": "53bb752cf935b59ef37fb7f2fe15a879f658e85c",
    "collapsed": true
   },
   "outputs": [],
   "source": [
    "# Splitting the data-set\n",
    "\n",
    "from sklearn.cross_validation import train_test_split\n",
    "xtrain, xtest, ytrain, ytest = train_test_split(x, y, test_size=0.25, random_state = 0)"
   ]
  },
  {
   "cell_type": "code",
   "execution_count": null,
   "metadata": {
    "_cell_guid": "88ce5dc2-d14f-487a-90d7-6635febc3747",
    "_uuid": "dff5638cf7420e5b71f6fb3b38e5521383fa708e",
    "collapsed": true
   },
   "outputs": [],
   "source": [
    "print(\"xtrain.shape : \", xtrain.shape)\n",
    "print(\"xtest.shape  : \", xtest.shape)\n",
    "print(\"ytrain.shape : \", ytrain.shape)\n",
    "print(\"xtest.shape  : \", xtest.shape)\n",
    "\n",
    "print(\"\\nxtrain  : \\n\", xtrain)\n",
    "print(\"\\n\\nxtest : \\n\", xtest)\n",
    "print(\"\\nytrain  : \\n\", xtrain)\n",
    "print(\"\\nytest   : \\n\", xtrain)"
   ]
  },
  {
   "cell_type": "code",
   "execution_count": null,
   "metadata": {
    "_cell_guid": "5169aa9b-4fc7-4133-8bd0-26dabf815c25",
    "_uuid": "992db22c2cf13ff4a59479882dbe664d32f9f556",
    "collapsed": true
   },
   "outputs": [],
   "source": [
    "# Feature Scaling\n",
    "\n",
    "from sklearn.preprocessing import StandardScaler\n",
    "sc_x = StandardScaler()\n",
    "xtrain = sc_x.fit_transform(xtrain)\n",
    "xtest = sc_x.transform(xtest)"
   ]
  },
  {
   "cell_type": "code",
   "execution_count": null,
   "metadata": {
    "_cell_guid": "990b1f72-3bb2-438c-a73c-3f05a0c17a6a",
    "_uuid": "2776b015183e417fbcd0e856793f61721f5b04b4",
    "collapsed": true
   },
   "outputs": [],
   "source": [
    "print(\"Standardised Training Set : \\n\\n\", xtrain)"
   ]
  },
  {
   "cell_type": "markdown",
   "metadata": {
    "_cell_guid": "a8a5b06d-2c05-44e2-b94e-971b949ea829",
    "_uuid": "3162c3452416f59e6f8b690634faf154d434d599"
   },
   "source": [
    "# Decision Tree Classification Model"
   ]
  },
  {
   "cell_type": "code",
   "execution_count": null,
   "metadata": {
    "_cell_guid": "5b1c1f4e-eee5-46a2-a925-1e594847fe03",
    "_uuid": "6588ec1ac3789085fdbe798c4339cb693b7d2bab",
    "collapsed": true
   },
   "outputs": [],
   "source": [
    "# Fitting Decision Tree Classification to the Training set\n",
    "\n",
    "from sklearn.tree import DecisionTreeClassifier\n",
    "dt_classifier = DecisionTreeClassifier(criterion = 'entropy', random_state = 0)\n",
    "dt_classifier.fit(xtrain, ytrain)"
   ]
  },
  {
   "cell_type": "code",
   "execution_count": null,
   "metadata": {
    "_cell_guid": "c58ce08f-27d8-4b08-adf0-728f580e4eb3",
    "_uuid": "8f47c86d913826efb5bf22d3bfe418ea2ac7ae2a",
    "collapsed": true
   },
   "outputs": [],
   "source": [
    "# Predicting the Test set results\n",
    "\n",
    "y_pred_decision_tree = dt_classifier.predict(xtest)"
   ]
  },
  {
   "cell_type": "code",
   "execution_count": null,
   "metadata": {
    "_cell_guid": "9ad941fe-3751-4253-baf2-2a4ee0424fb7",
    "_uuid": "ea72e51bfc64d30f5cd27e318378e6fc37712a27",
    "collapsed": true
   },
   "outputs": [],
   "source": [
    "print(\"y_pred_decision_tree : \\n\", y_pred_decision_tree)"
   ]
  },
  {
   "cell_type": "code",
   "execution_count": null,
   "metadata": {
    "_cell_guid": "5b46ec72-abe3-450b-8c8a-adf727ab5278",
    "_uuid": "48a300f4d450631f1b8b854fbb3693077ec017d6",
    "collapsed": true
   },
   "outputs": [],
   "source": [
    "# Making the Confusion Matrix to validate the Decision Tree Model\n",
    "\n",
    "from sklearn.metrics import confusion_matrix\n",
    "cm_decision = confusion_matrix(ytest, y_pred_decision_tree)"
   ]
  },
  {
   "cell_type": "code",
   "execution_count": null,
   "metadata": {
    "_cell_guid": "2c9938ed-06f2-43f3-96a4-c06adc08c2fb",
    "_uuid": "f22983f004f0a70845cf5b794c04b39102057fa2",
    "collapsed": true
   },
   "outputs": [],
   "source": [
    "cm_decision"
   ]
  },
  {
   "cell_type": "code",
   "execution_count": null,
   "metadata": {
    "_cell_guid": "179aa339-6211-4431-942e-b061ba269627",
    "_uuid": "543b7b7bd99bf481b06337cb666a8797e121db5f",
    "collapsed": true
   },
   "outputs": [],
   "source": [
    "# Validating the Prediction\n",
    "Accuracy_Decison = ((cm_decision[0][0] + cm_decision[1][1]) / cm_decision.sum()) *100\n",
    "print(\"Accuracy_Decison    : \", Accuracy_Decison)\n",
    "\n",
    "Error_rate_Decison = ((cm_decision[0][1] + cm_decision[1][0]) / cm_decision.sum()) *100\n",
    "print(\"Error_rate_Decison  : \", Error_rate_Decison)\n",
    "\n",
    "# True Fake Recognition Rate\n",
    "Specificity_Decison = (cm_decision[1][1] / (cm_decision[1][1] + cm_decision[0][1])) *100\n",
    "print(\"Specificity_Decison : \", Specificity_Decison)\n",
    "\n",
    "# True Genuine Recognition Rate\n",
    "Sensitivity_Decison = (cm_decision[0][0] / (cm_decision[0][0] + cm_decision[1][0])) *100\n",
    "print(\"Sensitivity_Decison : \", Sensitivity_Decison)"
   ]
  },
  {
   "cell_type": "markdown",
   "metadata": {
    "_cell_guid": "3ce9137b-5ad2-46e4-9b8a-d9e000f027ff",
    "_uuid": "3c1962328131379497e24f4e56d9eb2962d3e85b"
   },
   "source": [
    "# Ensemble Learning : Random Forest Classification Model"
   ]
  },
  {
   "cell_type": "code",
   "execution_count": null,
   "metadata": {
    "_cell_guid": "32505aca-64d7-4927-aa5a-95b074cca8b4",
    "_uuid": "91662af6b6427c9019961dbffd39ac575e7b54fd",
    "collapsed": true
   },
   "outputs": [],
   "source": [
    "# Fitting Random Forest Model to the dataset\n",
    "\n",
    "from sklearn.ensemble import RandomForestClassifier\n",
    "rf_classifier = RandomForestClassifier(n_estimators=100, criterion = 'entropy', random_state = 0 )\n",
    "rf_classifier.fit(xtrain, ytrain)"
   ]
  },
  {
   "cell_type": "code",
   "execution_count": null,
   "metadata": {
    "_cell_guid": "3d326ae5-7e8e-4208-99be-5eccd54db443",
    "_uuid": "a91208a686165658553398a8f82fdd79ea92fb81",
    "collapsed": true
   },
   "outputs": [],
   "source": [
    "# Predicting the Test set results\n",
    "\n",
    "y_pred_randomforest = rf_classifier.predict(xtest)"
   ]
  },
  {
   "cell_type": "code",
   "execution_count": null,
   "metadata": {
    "_cell_guid": "59ef9b52-0fe9-43b4-b56e-044cf32efcab",
    "_uuid": "76c9538e1379fd0c2f3156619909588de64790c9",
    "collapsed": true
   },
   "outputs": [],
   "source": [
    "print(\"y_pred_randomforest : \\n\", y_pred_randomforest)"
   ]
  },
  {
   "cell_type": "code",
   "execution_count": null,
   "metadata": {
    "_cell_guid": "d33ffd97-ee1c-436b-adba-09b65a7c5159",
    "_uuid": "a7817cab2ba7f2a7f2233735d78ed97b10d03371",
    "collapsed": true
   },
   "outputs": [],
   "source": [
    "# Making the Confusion Matrix to validate the Random Forest Model\n",
    "\n",
    "from sklearn.metrics import confusion_matrix\n",
    "cm_rainforest = confusion_matrix(ytest, y_pred_randomforest)"
   ]
  },
  {
   "cell_type": "code",
   "execution_count": null,
   "metadata": {
    "_cell_guid": "459f913e-85e4-4302-9242-5f9dc46943e1",
    "_uuid": "41017dbd87e79db053b0b944317d78ac0e1c8f4a",
    "collapsed": true
   },
   "outputs": [],
   "source": [
    "# Validating the Prediction\n",
    "Accuracy_rainforest = ((cm_rainforest[0][0] + cm_rainforest[1][1]) / cm_rainforest.sum()) *100\n",
    "print(\"Accuracy_rainforest    : \", Accuracy_rainforest)\n",
    "\n",
    "Error_rate_rainforest = ((cm_rainforest[0][1] + cm_rainforest[1][0]) / cm_rainforest.sum()) *100\n",
    "print(\"Error_rate_rainforest  : \", Error_rate_rainforest)\n",
    "\n",
    "# True Fake Recognition Rate\n",
    "Specificity_rainforest = (cm_rainforest[1][1] / (cm_rainforest[1][1] + cm_rainforest[0][1])) *100\n",
    "print(\"Specificity_rainforest : \", Specificity_rainforest)\n",
    "\n",
    "# True Genuine Recognition Rate\n",
    "Sensitivity_rainforest = (cm_rainforest[0][0] / (cm_rainforest[0][0] + cm_rainforest[1][0])) *100\n",
    "print(\"Sensitivity_rainforest : \", Sensitivity_rainforest)"
   ]
  },
  {
   "cell_type": "markdown",
   "metadata": {
    "_cell_guid": "c963b9fd-da97-46d6-b2e3-7a25b9c75c28",
    "_uuid": "0f9300865f76b0348faed6e369fec13031866233"
   },
   "source": [
    "Since I have already used the Standardisation of dataset - using StandardScaler. \n",
    "That's why I used Confusion Matrix to check the Accuracy of my model :)"
   ]
  }
 ],
 "metadata": {
  "kernelspec": {
   "display_name": "Python 3",
   "language": "python",
   "name": "python3"
  },
  "language_info": {
   "codemirror_mode": {
    "name": "ipython",
    "version": 2
   },
   "file_extension": ".py",
   "mimetype": "text/x-python",
   "name": "python",
   "nbconvert_exporter": "python",
   "pygments_lexer": "ipython2",
   "version": "2.7.16"
  }
 },
 "nbformat": 4,
 "nbformat_minor": 1
}
