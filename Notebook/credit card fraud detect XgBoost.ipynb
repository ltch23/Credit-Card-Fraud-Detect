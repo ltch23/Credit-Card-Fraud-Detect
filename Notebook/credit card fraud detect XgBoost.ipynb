{
 "cells": [
  {
   "cell_type": "code",
   "execution_count": 1,
   "metadata": {
    "_cell_guid": "11290628-b996-418e-a3d6-9d36447d5ade",
    "_kg_hide-input": false,
    "_uuid": "047250539ea0427dbc3f7dd46eb7e02e79e58bf4"
   },
   "outputs": [],
   "source": [
    "# Loading libraries\n",
    "import itertools\n",
    "import pandas as pd\n",
    "import numpy as np\n",
    "import matplotlib.pyplot as plt\n",
    "import seaborn as sns\n",
    "from sklearn.metrics import accuracy_score,f1_score\n",
    "from sklearn.impute import SimpleImputer\n",
    "from sklearn.model_selection import cross_val_score\n"
   ]
  },
  {
   "cell_type": "code",
   "execution_count": 2,
   "metadata": {
    "_cell_guid": "be228bff-6554-4f52-94df-79894f2eb721",
    "_uuid": "764aeb6dd7615b00d5f050d7d6be68bd19199db1"
   },
   "outputs": [],
   "source": [
    "# Loading dataset\n",
    "\n",
    "dataset = pd.read_csv('../input/creditcard.csv')\n",
    "dataset = dataset.drop(['V28','V27','V26','V25','V24','V23','V22','V20','V15','V13','V8'], axis =1)\n",
    "dataset['V1_'] = dataset.V1.map(lambda x: 1 if x < -3 else 0)\n",
    "dataset['V2_'] = dataset.V2.map(lambda x: 1 if x > 2.5 else 0)\n",
    "dataset['V3_'] = dataset.V3.map(lambda x: 1 if x < -4 else 0)\n",
    "dataset['V4_'] = dataset.V4.map(lambda x: 1 if x > 2.5 else 0)\n",
    "dataset['V5_'] = dataset.V5.map(lambda x: 1 if x < -4.5 else 0)\n",
    "dataset['V6_'] = dataset.V6.map(lambda x: 1 if x < -2.5 else 0)\n",
    "dataset['V7_'] = dataset.V7.map(lambda x: 1 if x < -3 else 0)\n",
    "dataset['V9_'] = dataset.V9.map(lambda x: 1 if x < -2 else 0)\n",
    "dataset['V10_'] = dataset.V10.map(lambda x: 1 if x < -2.5 else 0)\n",
    "dataset['V11_'] = dataset.V11.map(lambda x: 1 if x > 2 else 0)\n",
    "dataset['V12_'] = dataset.V12.map(lambda x: 1 if x < -2 else 0)\n",
    "dataset['V14_'] = dataset.V14.map(lambda x: 1 if x < -2.5 else 0)\n",
    "dataset['V16_'] = dataset.V16.map(lambda x: 1 if x < -2 else 0)\n",
    "dataset['V17_'] = dataset.V17.map(lambda x: 1 if x < -2 else 0)\n",
    "dataset['V18_'] = dataset.V18.map(lambda x: 1 if x < -2 else 0)\n",
    "dataset['V19_'] = dataset.V19.map(lambda x: 1 if x > 1.5 else 0)\n",
    "dataset['V21_'] = dataset.V21.map(lambda x: 1 if x > 0.6 else 0)\n",
    "\n",
    "#Crea una nueva función para transacciones normales (no fraudulentas).\n",
    "dataset.loc[dataset.Class == 0, 'Clase'] = 0\n",
    "dataset.loc[dataset.Class == 1, 'Clase'] = 1\n",
    "dataset = dataset.drop(['Class'], axis =1)"
   ]
  },
  {
   "cell_type": "code",
   "execution_count": 3,
   "metadata": {
    "_cell_guid": "976a06ca-b1d3-44b6-bc3e-8afd7160b63d",
    "_uuid": "7affa3554319cade77750157fd168813c53db17a"
   },
   "outputs": [
    {
     "name": "stdout",
     "output_type": "stream",
     "text": [
      "37\n"
     ]
    }
   ],
   "source": [
    "# Parameters and results\n",
    "# Disminuya todas las características que tienen distribuciones muy similares entre los dos tipos de transacciones.\n",
    "print(dataset.shape[1])\n",
    "n_len=dataset.shape[1]\n",
    "pd.set_option(\"display.max_columns\",101)\n",
    "dataset.head()\n",
    "\n",
    "x = dataset.iloc[: , 1:n_len-1].values\n",
    "y = dataset.iloc[:, n_len-1].values"
   ]
  },
  {
   "cell_type": "code",
   "execution_count": null,
   "metadata": {},
   "outputs": [],
   "source": []
  },
  {
   "cell_type": "code",
   "execution_count": 4,
   "metadata": {
    "_cell_guid": "976a06ca-b1d3-44b6-bc3e-8afd7160b63d",
    "_uuid": "7affa3554319cade77750157fd168813c53db17a"
   },
   "outputs": [],
   "source": [
    "# Handling Missing Values\n",
    "imputer = SimpleImputer(missing_values=np.nan, strategy=\"mean\")\n",
    "imputer = imputer.fit(x[:, 1::n_len-1])\n",
    "x[:, 1::n_len-1] = imputer.fit_transform(x[:, 1::n_len-1])\n",
    "\n",
    "# Feature Scaling\n",
    "\n",
    "from sklearn.preprocessing import StandardScaler\n",
    "sc_x = StandardScaler()\n",
    "x = sc_x.fit_transform(x)"
   ]
  },
  {
   "cell_type": "markdown",
   "metadata": {},
   "source": [
    "#FOLDS"
   ]
  },
  {
   "cell_type": "code",
   "execution_count": 5,
   "metadata": {},
   "outputs": [],
   "source": [
    "#from sklearn.model_selection import KFold, cross_validate\n",
    "#scoring = ['accuracy', 'f1']\n",
    "#kfold = KFold(n_splits=3)\n",
    "#kfold = KFold(n_splits=6, random_state=0)"
   ]
  },
  {
   "cell_type": "code",
   "execution_count": 6,
   "metadata": {},
   "outputs": [],
   "source": [
    "#results = cross_validate(rf_classifier,x,y,cv=kfold, scoring=scoring,return_train_score=False)\n"
   ]
  },
  {
   "cell_type": "markdown",
   "metadata": {},
   "source": [
    "#  XgBoost Model"
   ]
  },
  {
   "cell_type": "code",
   "execution_count": 7,
   "metadata": {},
   "outputs": [],
   "source": [
    "from sklearn.model_selection import train_test_split\n",
    "train_x, test_x, train_y, test_y = train_test_split(x, y,test_size = 0.25, random_state = 42)"
   ]
  },
  {
   "cell_type": "code",
   "execution_count": 8,
   "metadata": {},
   "outputs": [
    {
     "name": "stdout",
     "output_type": "stream",
     "text": [
      "Parameters currently in use:\n",
      "\n",
      "{'base_score': 0.5,\n",
      " 'colsample_bylevel': 1,\n",
      " 'colsample_bytree': 1,\n",
      " 'gamma': 0,\n",
      " 'learning_rate': 0.1,\n",
      " 'max_delta_step': 0,\n",
      " 'max_depth': 3,\n",
      " 'min_child_weight': 1,\n",
      " 'missing': None,\n",
      " 'n_estimators': 100,\n",
      " 'nthread': -1,\n",
      " 'objective': 'binary:logistic',\n",
      " 'reg_alpha': 0,\n",
      " 'reg_lambda': 1,\n",
      " 'scale_pos_weight': 1,\n",
      " 'seed': 0,\n",
      " 'silent': True,\n",
      " 'subsample': 1}\n"
     ]
    }
   ],
   "source": [
    "import xgboost as xgb\n",
    "xgb_classifier=xgb.XGBClassifier()\n",
    "from pprint import pprint\n",
    "\n",
    "# Look at parameters used by our current forest\n",
    "print('Parameters currently in use:\\n')\n",
    "pprint(xgb_classifier.get_params())\n",
    "\n",
    "\n",
    "\n"
   ]
  },
  {
   "cell_type": "code",
   "execution_count": 9,
   "metadata": {},
   "outputs": [
    {
     "name": "stdout",
     "output_type": "stream",
     "text": [
      "{'colsample_bytree': [0.4, 0.6, 0.8, 1.0],\n",
      " 'gamma': [0.25, 0.5, 1.0, 1.5, 2],\n",
      " 'learning_rate': [0.001, 0.01, 0.1, 0.3, 0, 5],\n",
      " 'max_depth': [6, 10, 15, 20],\n",
      " 'min_child_weight': [0.5, 1.0, 3.0, 5.0, 7.0, 10.0],\n",
      " 'n_estimators': [50, 100, 150, 200],\n",
      " 'reg_lambda': [0.1, 1.0, 5.0, 10.0, 50.0, 100.0],\n",
      " 'subsample': [0.5, 0.7, 0.9, 1.0]}\n"
     ]
    }
   ],
   "source": [
    "from sklearn.model_selection import RandomizedSearchCV\n",
    "\n",
    "n_estimators = [50, 100, 150, 200]\n",
    "max_depth = [6, 10, 15, 20]\n",
    "min_child_weight = [0.5, 1.0, 3.0, 5.0, 7.0, 10.0]\n",
    "learning_rate = [0.001, 0.01, 0.1, 0.3, 0,5]\n",
    "subsample = [0.5,0.7,0.9, 1.0]\n",
    "colsample_bytree = [0.4, 0.6, 0.8, 1.0]\n",
    "gamma = [0.25, 0.5, 1.0, 1.5, 2]  \n",
    "reg_lambda = [0.1, 1.0, 5.0, 10.0, 50.0, 100.0]\n",
    "\n",
    "\n",
    "# Create the random grid\n",
    "random_grid = {'n_estimators':n_estimators,\n",
    "               'max_depth': max_depth,\n",
    "               'min_child_weight': min_child_weight,\n",
    "               'learning_rate': learning_rate,\n",
    "               'subsample': subsample,\n",
    "               'colsample_bytree': colsample_bytree,\n",
    "               'reg_lambda':reg_lambda,\n",
    "               'gamma': gamma}\n",
    "\n",
    "pprint(random_grid)\n"
   ]
  },
  {
   "cell_type": "code",
   "execution_count": 10,
   "metadata": {},
   "outputs": [
    {
     "name": "stdout",
     "output_type": "stream",
     "text": [
      "Fitting 3 folds for each of 50 candidates, totalling 150 fits\n"
     ]
    },
    {
     "name": "stderr",
     "output_type": "stream",
     "text": [
      "[Parallel(n_jobs=6)]: Using backend LokyBackend with 6 concurrent workers.\n",
      "[Parallel(n_jobs=6)]: Done  29 tasks      | elapsed:  5.6min\n",
      "[Parallel(n_jobs=6)]: Done 150 out of 150 | elapsed: 29.4min finished\n"
     ]
    },
    {
     "data": {
      "text/plain": [
       "RandomizedSearchCV(cv=3, error_score='raise-deprecating',\n",
       "          estimator=XGBClassifier(base_score=0.5, colsample_bylevel=1, colsample_bytree=1,\n",
       "       gamma=0, learning_rate=0.1, max_delta_step=0, max_depth=3,\n",
       "       min_child_weight=1, missing=None, n_estimators=100, nthread=-1,\n",
       "       objective='binary:logistic', reg_alpha=0, reg_lambda=1,\n",
       "       scale_pos_weight=1, seed=0, silent=True, subsample=1),\n",
       "          fit_params=None, iid='warn', n_iter=50, n_jobs=6,\n",
       "          param_distributions={'n_estimators': [50, 100, 150, 200], 'subsample': [0.5, 0.7, 0.9, 1.0], 'reg_lambda': [0.1, 1.0, 5.0, 10.0, 50.0, 100.0], 'colsample_bytree': [0.4, 0.6, 0.8, 1.0], 'gamma': [0.25, 0.5, 1.0, 1.5, 2], 'learning_rate': [0.001, 0.01, 0.1, 0.3, 0, 5], 'max_depth': [6, 10, 15, 20], 'min_child_weight': [0.5, 1.0, 3.0, 5.0, 7.0, 10.0]},\n",
       "          pre_dispatch='2*n_jobs', random_state=42, refit=True,\n",
       "          return_train_score=True, scoring='neg_mean_absolute_error',\n",
       "          verbose=2)"
      ]
     },
     "execution_count": 10,
     "metadata": {},
     "output_type": "execute_result"
    }
   ],
   "source": [
    "# Use the random grid to search for best hyperparameters\n",
    "# First create the base model to tune\n",
    "xgb = xgb.XGBClassifier()\n",
    "# Random search of parameters, using 3 fold cross validation, \n",
    "# search across 100 different combinations, and use all available cores\n",
    "xgb_random = RandomizedSearchCV(estimator=xgb, param_distributions=random_grid,\n",
    "                              n_iter = 50, scoring='neg_mean_absolute_error', \n",
    "                              cv = 3, verbose=2, random_state=42, n_jobs=6,\n",
    "                              return_train_score=True)\n",
    "\n",
    "# Fit the random search model\n",
    "xgb_random.fit(train_x, train_y)"
   ]
  },
  {
   "cell_type": "code",
   "execution_count": 12,
   "metadata": {},
   "outputs": [
    {
     "name": "stdout",
     "output_type": "stream",
     "text": [
      "{'colsample_bytree': 0.8, 'learning_rate': 0.3, 'min_child_weight': 1.0, 'n_estimators': 100, 'subsample': 0.7, 'reg_lambda': 0.1, 'max_depth': 15, 'gamma': 1.0}\n"
     ]
    }
   ],
   "source": [
    "print(xgb_random.best_params_)\n",
    "#print(rf_random.best_estimator_ )"
   ]
  },
  {
   "cell_type": "code",
   "execution_count": null,
   "metadata": {},
   "outputs": [],
   "source": []
  },
  {
   "cell_type": "code",
   "execution_count": 13,
   "metadata": {},
   "outputs": [
    {
     "name": "stdout",
     "output_type": "stream",
     "text": [
      "XGBClassifier(base_score=0.5, colsample_bylevel=1, colsample_bytree=0.8,\n",
      "       gamma=1.0, learning_rate=0.3, max_delta_step=0, max_depth=15,\n",
      "       min_child_weight=1.0, missing=None, n_estimators=100, nthread=-1,\n",
      "       objective='binary:logistic', reg_alpha=0, reg_lambda=0.1,\n",
      "       scale_pos_weight=1, seed=0, silent=True, subsample=0.7)\n"
     ]
    }
   ],
   "source": [
    "best_random = xgb_random.best_estimator_\n",
    "print(best_random)\n",
    "y_predict = best_random.predict(test_x)"
   ]
  },
  {
   "cell_type": "code",
   "execution_count": 14,
   "metadata": {},
   "outputs": [],
   "source": [
    "from sklearn.metrics import accuracy_score\n",
    "accura= accuracy_score(test_y, y_predict)  \n",
    "\n",
    "from sklearn.metrics import f1_score\n",
    "f1score= f1_score(test_y, y_predict)  \n"
   ]
  },
  {
   "cell_type": "code",
   "execution_count": 15,
   "metadata": {},
   "outputs": [
    {
     "name": "stdout",
     "output_type": "stream",
     "text": [
      "('accuracy: ', 0.99957866352068758)\n",
      "('f1_score: ', 0.85576923076923084)\n"
     ]
    }
   ],
   "source": [
    "print(\"accuracy: \",accura)\n",
    "print(\"f1_score: \",f1score)"
   ]
  },
  {
   "cell_type": "code",
   "execution_count": null,
   "metadata": {},
   "outputs": [],
   "source": []
  }
 ],
 "metadata": {
  "kernelspec": {
   "display_name": "Python 2",
   "language": "python",
   "name": "python2"
  },
  "language_info": {
   "codemirror_mode": {
    "name": "ipython",
    "version": 2
   },
   "file_extension": ".py",
   "mimetype": "text/x-python",
   "name": "python",
   "nbconvert_exporter": "python",
   "pygments_lexer": "ipython2",
   "version": "2.7.16"
  }
 },
 "nbformat": 4,
 "nbformat_minor": 1
}
